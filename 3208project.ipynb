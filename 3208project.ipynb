{
 "cells": [
  {
   "cell_type": "markdown",
   "metadata": {},
   "source": [
    "# INFS3208 Cloud Computing Project"
   ]
  },
  {
   "cell_type": "markdown",
   "metadata": {},
   "source": [
    "## Amazon Data Analysis using various models"
   ]
  },
  {
   "cell_type": "markdown",
   "metadata": {},
   "source": [
    "In this cloud computing project, we are going to do some data analysis including Sentiment Analysis,Recommendation Engine and Feature Predictions using four datasets about Amazon. Multiple tasks and models would be used to train the data including Classification, Clustering, Regression and  Collaborative Filtering models."
   ]
  },
  {
   "cell_type": "markdown",
   "metadata": {},
   "source": [
    "# 1.Sentiment analysis of Amazon reviews (Classification)"
   ]
  },
  {
   "cell_type": "markdown",
   "metadata": {},
   "source": [
    "## 1.1 Data Preparation"
   ]
  },
  {
   "cell_type": "markdown",
   "metadata": {},
   "source": [
    "### 1.1.1 Load file amazon_reviews.csv from HDFS"
   ]
  },
  {
   "cell_type": "code",
   "execution_count": 1,
   "metadata": {},
   "outputs": [],
   "source": [
    "reviews_HDFS = \"hdfs://namenode:9000/amazon_reviews.csv\"\n",
    "reviews_local = \"amazon_reviews.csv\""
   ]
  },
  {
   "cell_type": "code",
   "execution_count": 2,
   "metadata": {},
   "outputs": [],
   "source": [
    "import re\n",
    "import time\n",
    "import string\n",
    "import numpy as np\n",
    "import warnings\n",
    "from pyspark import SparkContext\n",
    "from pyspark.sql import SparkSession\n",
    "from pyspark.sql.functions import col, udf\n",
    "from pyspark.sql.types import StringType\n",
    "\n",
    "# Initialize a Sparksession \n",
    "spark_classification = SparkSession.builder.appName(\"Classification\").config(\"spark.port.maxRetries\", \"50\").getOrCreate()\n",
    "\n",
    "# Read reviews CSV file from HDFS \n",
    "reviews_df = spark_classification.read.option(\"multiLine\", \"true\").option(\"header\", \"true\").csv(reviews_local)\n",
    "\n",
    "# Select the 'text' column and convert the 'text' column to RDDs\n",
    "reviews_text_df = reviews_df.select(\"text\")\n",
    "reviews_text_rdd = reviews_text_df.rdd.map(lambda row: row['text'])\n",
    "\n",
    "# Select the 'score' column and convert the 'score' column to RDDs\n",
    "reviews_score_df = reviews_df.select(\"score\")\n",
    "reviews_score_rdd = reviews_score_df.rdd.map(lambda row: row['score'])"
   ]
  },
  {
   "cell_type": "markdown",
   "metadata": {},
   "source": [
    "- print first five texts and first ten scores. Show the basic information about score."
   ]
  },
  {
   "cell_type": "code",
   "execution_count": 3,
   "metadata": {},
   "outputs": [
    {
     "name": "stdout",
     "output_type": "stream",
     "text": [
      "\n",
      " I have bought several of the Vitality canned dog food products and have found them all to be of good quality. The product looks more like a stew than a processed meat and it smells better. My Labrador is finicky and she appreciates this product better than  most.\n",
      "\n",
      " \"Product arrived labeled as Jumbo Salted Peanuts...the peanuts were actually small sized unsalted. Not sure if this was an error or if the vendor intended to represent the product as \"\"Jumbo\"\".\"\n",
      "\n",
      " \"This is a confection that has been around a few centuries.  It is a light, pillowy citrus gelatin with nuts - in this case Filberts. And it is cut into tiny squares and then liberally coated with powdered sugar.  And it is a tiny mouthful of heaven.  Not too chewy, and very flavorful.  I highly recommend this yummy treat.  If you are familiar with the story of C.S. Lewis' \"\"The Lion\n",
      "\n",
      " If you are looking for the secret ingredient in Robitussin I believe I have found it.  I got this in addition to the Root Beer Extract I ordered (which was good) and made some cherry soda.  The flavor is very medicinal.\n",
      "\n",
      " Great taffy at a great price.  There was a wide assortment of yummy taffy.  Delivery was very quick.  If your a taffy lover, this is a deal.\n"
     ]
    }
   ],
   "source": [
    "for text in reviews_text_rdd.take(5):\n",
    "    print(\"\\n\",text)"
   ]
  },
  {
   "cell_type": "code",
   "execution_count": 4,
   "metadata": {},
   "outputs": [
    {
     "name": "stdout",
     "output_type": "stream",
     "text": [
      "score: 5\n",
      "score: 1\n",
      "score: 4\n",
      "score: 2\n",
      "score: 5\n",
      "score: 4\n",
      "score: 5\n",
      "score: 5\n",
      "score: 5\n",
      "score: 5\n"
     ]
    }
   ],
   "source": [
    "for score in reviews_score_rdd.take(10):\n",
    "    print(\"score:\", score)"
   ]
  },
  {
   "cell_type": "markdown",
   "metadata": {},
   "source": [
    "### 1.1.2 Cleansing data and avoid noise"
   ]
  },
  {
   "cell_type": "code",
   "execution_count": 5,
   "metadata": {},
   "outputs": [],
   "source": [
    "def clean_data(text):\n",
    "    if isinstance(text, str):\n",
    "        # Remove any HTML tags, symbols, and extra characters\n",
    "        text = re.sub(r'https?:\\/\\/.*[\\r\\n]*', '', text, flags=re.MULTILINE)\n",
    "        text = re.sub(r'\\<.*?\\>', ' ', text) \n",
    "        text = re.sub(r'&amp;', '', text)\n",
    "        text = re.sub(r'[_\"\\-;%()|+&=*%.,!?:#$@\\[\\]/]', ' ', text)\n",
    "        text = re.sub(r'<br\\s*/?>', ' ', text)\n",
    "        text = re.sub(r'\\s+', ' ', text) \n",
    "        text = text.strip() \n",
    "        \n",
    "        if text:\n",
    "            return text\n",
    "    return None \n",
    "\n",
    "# Apply the clean_data function to reviews_text_rdd \n",
    "reviews_text_rdd = reviews_text_rdd.map(clean_data).filter(lambda x: x is not None)"
   ]
  },
  {
   "cell_type": "code",
   "execution_count": 6,
   "metadata": {},
   "outputs": [],
   "source": [
    "def clean_score(score):\n",
    "    try:\n",
    "        score = float(score)\n",
    "        if score > 5 or score < 1:\n",
    "            return 3\n",
    "        else:\n",
    "            return int(score) \n",
    "    except ValueError:\n",
    "        return 3\n",
    "\n",
    "# Apply the clean_score function to reviews_score_rdd \n",
    "reviews_score_rdd = reviews_score_rdd.map(clean_score)"
   ]
  },
  {
   "cell_type": "code",
   "execution_count": 7,
   "metadata": {},
   "outputs": [
    {
     "name": "stdout",
     "output_type": "stream",
     "text": [
      "Missing text for the following indices: {28419}\n",
      "Filtered Text count: 28419, Filtered Score count: 28419\n",
      "Review: I have bought several of the Vitality canned dog food products and have found them all to be of good quality The product looks more like a stew than a processed meat and it smells better My Labrador is finicky and she appreciates this product better than most, Score: 5 \n",
      "\n",
      "Review: Product arrived labeled as Jumbo Salted Peanuts the peanuts were actually small sized unsalted Not sure if this was an error or if the vendor intended to represent the product as Jumbo, Score: 1 \n",
      "\n",
      "Review: This is a confection that has been around a few centuries It is a light pillowy citrus gelatin with nuts in this case Filberts And it is cut into tiny squares and then liberally coated with powdered sugar And it is a tiny mouthful of heaven Not too chewy and very flavorful I highly recommend this yummy treat If you are familiar with the story of C S Lewis' The Lion, Score: 4 \n",
      "\n",
      "Review: If you are looking for the secret ingredient in Robitussin I believe I have found it I got this in addition to the Root Beer Extract I ordered which was good and made some cherry soda The flavor is very medicinal, Score: 2 \n",
      "\n",
      "Review: Great taffy at a great price There was a wide assortment of yummy taffy Delivery was very quick If your a taffy lover this is a deal, Score: 5 \n",
      "\n",
      "Review: I got a wild hair for taffy and ordered this five pound bag The taffy was all very enjoyable with many flavors watermelon root beer melon peppermint grape etc My only complaint is there was a bit too much red black licorice flavored pieces just not my particular favorites Between me my kids and my husband this lasted only two weeks I would recommend this brand of taffy it was a delightful treat, Score: 4 \n",
      "\n",
      "Review: This saltwater taffy had great flavors and was very soft and chewy Each candy was individually wrapped well None of the candies were stuck together which did happen in the expensive version Fralinger's Would highly recommend this candy I served it at a beach themed party and everyone loved it, Score: 5 \n",
      "\n",
      "Review: This taffy is so good It is very soft and chewy The flavors are amazing I would definitely recommend you buying it Very satisfying, Score: 5 \n",
      "\n",
      "Review: Right now I'm mostly just sprouting this so my cats can eat the grass They love it I rotate it around with Wheatgrass and Rye too, Score: 5 \n",
      "\n",
      "Review: This is a very healthy dog food Good for their digestion Also good for small puppies My dog eats her required amount at every feeding, Score: 5 \n",
      "\n",
      "Review: I don't know if it's the cactus or the tequila or just the unique combination of ingredients but the flavour of this hot sauce makes it one of a kind We picked up a bottle once on a trip we were on and brought it back home with us and were totally blown away When we realized that we simply couldn't find it anywhere in our city we were bummed Now because of the magic of the internet we have a case of the sauce and are ecstatic because of it If you love hot sauce I mean really love hot sauce but don't want a sauce that tastelessly burns your throat grab a bottle of Tequila Picante Gourmet de Inclan Just realize that once you taste it you will never want to use any other sauce Thank you for the personal incredible service, Score: 5 \n",
      "\n",
      "Review: One of my boys needed to lose some weight and the other didn't I put this food on the floor for the chubby guy and the protein rich no by product food up higher where only my skinny boy can jump The higher food sits going stale They both really go for this food And my chubby boy has been losing about an ounce a week, Score: 5 \n",
      "\n",
      "Review: My cats have been happily eating Felidae Platinum for more than two years I just got a new bag and the shape of the food is different They tried the new food when I first put it in their bowls and now the bowls sit full and the kitties will not touch the food I've noticed similar reviews related to formula changes in the past Unfortunately I now need to find a new food that my cats will eat, Score: 1 \n",
      "\n",
      "Review: good flavor these came securely packed they were fresh and delicious i love these Twizzlers, Score: 4 \n",
      "\n",
      "Review: The Strawberry Twizzlers are my guilty pleasure yummy Six pounds will be around for a while with my son and I, Score: 5 \n",
      "\n",
      "Review: My daughter loves twizzlers and this shipment of six pounds really hit the spot It's exactly what you would expect six packages of strawberry twizzlers, Score: 5 \n",
      "\n",
      "Review: I love eating them and they are good for watching TV and looking at movies It is not too sweet I like to transfer them to a zip lock baggie so they stay fresh so I can take my time eating them, Score: 2 \n",
      "\n",
      "Review: I am very satisfied with my Twizzler purchase I shared these with others and we have all enjoyed them I will definitely be ordering more, Score: 5 \n",
      "\n",
      "Review: Twizzlers Strawberry my childhood favorite candy made in Lancaster Pennsylvania by Y S Candies Inc one of the oldest confectionery Firms in the United States now a Subsidiary of the Hershey Company the Company was established in 1845 as Young and Smylie they also make Apple Licorice Twists Green Color and Blue Raspberry Licorice Twists I like them all I keep it in a dry cool place because is not recommended it to put it in the fridge According to the Guinness Book of Records the longest Licorice Twist ever made measured 1 200 Feet 370 M and weighted 100 Pounds 45 Kg and was made by Y S Candies Inc This Record Breaking Twist became a Guinness World Record on July 19 1998 This Product is Kosher Thank You, Score: 5 \n",
      "\n",
      "Review: Candy was delivered very fast and was purchased at a reasonable price I was home bound and unable to get to a store so this was perfect for me, Score: 5 \n",
      "\n",
      "Review: My husband is a Twizzlers addict We've bought these many times from Amazon because we're government employees living overseas and can't get them in the country we are assigned to They've always been fresh and tasty packed well and arrive in a timely manner, Score: 5 \n",
      "\n",
      "Review: I bought these for my husband who is currently overseas He loves these and apparently his staff likes them also There are generous amounts of Twizzlers in each 16 ounce bag and this was well worth the price <a href, Score: 5 \n",
      "\n",
      "Review: I can remember buying this candy as a kid and the quality hasn't dropped in all these years Still a superb product you won't be disappointed with, Score: 5 \n",
      "\n",
      "Review: I love this candy After weight watchers I had to cut back but still have a craving for it, Score: 5 \n",
      "\n",
      "Review: I have lived out of the US for over 7 yrs now and I so miss my Twizzlers When I go back to visit or someone visits me I always stock up All I can say is YUM Sell these in Mexico and you will have a faithful buyer more often than I'm able to buy them right now, Score: 5 \n",
      "\n",
      "Review: Product received is as advertised <a href, Score: 5 \n",
      "\n",
      "Review: The candy is just red No flavor Just plan and chewy I would never buy them again, Score: 1 \n",
      "\n",
      "Review: I was so glad Amazon carried these batteries I have a hard time finding them elsewhere because they are such a unique size I need them for my garage door opener Great deal for the price, Score: 4 \n",
      "\n",
      "Review: I got this for my Mum who is not diabetic but needs to watch her sugar intake and my father who simply chooses to limit unnecessary sugar intake she's the one with the sweet tooth they both LOVED these toffees you would never guess that they're sugar free and it's so great that you can eat them pretty much guilt free i was so impressed that i've ordered some for myself w dark chocolate to take to the office so i'll eat them instead of snacking on sugary sweets These are just EXCELLENT, Score: 5 \n",
      "\n",
      "Review: I don't know if it's the cactus or the tequila or just the unique combination of ingredients but the flavour of this hot sauce makes it one of a kind We picked up a bottle once on a trip we were on and brought it back home with us and were totally blown away When we realized that we simply couldn't find it anywhere in our city we were bummed Now because of the magic of the internet we have a case of the sauce and are ecstatic because of it If you love hot sauce I mean really love hot sauce but don't want a sauce that tastelessly burns your throat grab a bottle of Tequila Picante Gourmet de Inclan Just realize that once you taste it you will never want to use any other sauce Thank you for the personal incredible service, Score: 5 \n",
      "\n",
      "Review: I have never been a huge coffee fan However my mother purchased this little machine and talked me into trying the Latte Macciato No Coffee Shop has a better one and I like most of the other products too as a usually non coffee drinker The little Dolche Guesto Machine is super easy to use and prepares a really good Coffee Latte Cappuccino etc in less than a minute if water is heated up I would recommend the Dolce Gusto to anyone Too good for the price and I'am getting one myself, Score: 5 \n",
      "\n",
      "Review: This offer is a great price and a great taste thanks Amazon for selling this product Staral, Score: 5 \n",
      "\n",
      "Review: McCann's Instant Oatmeal is great if you must have your oatmeal but can only scrape together two or three minutes to prepare it There is no escaping the fact however that even the best instant oatmeal is nowhere near as good as even a store brand of oatmeal requiring stovetop preparation Still the McCann's is as good as it gets for instant oatmeal It's even better than the organic all natural brands I have tried All the varieties in the McCann's variety pack taste good It can be prepared in the microwave or by adding boiling water so it is convenient in the extreme when time is an issue McCann's use of actual cane sugar instead of high fructose corn syrup helped me decide to buy this product Real sugar tastes better and is not as harmful as the other stuff One thing I do not like though is McCann's use of thickeners Oats plus water plus heat should make a creamy tasty oatmeal without the need for guar gum But this is a convenience product Maybe the guar gum is why after sitting in the bowl a while the instant McCann's becomes too thick and gluey, Score: 4 \n",
      "\n",
      "Review: This is a good instant oatmeal from the best oatmeal brand It uses cane sugar instead of high fructouse corn syrup so not only does it have a better sweetness but some doctors now say that this form of sugar is better for you Great on a cold morning when you don't have time to make McCann's Steel Cut Oats The apple cinnamon is the best but the maple and brown sugar or the regular are good too Plus they don't require doctoring to actually tell the three flavors apart, Score: 4 \n",
      "\n",
      "Review: Instant oatmeal can become soggy the minute the water hits the bowl McCann's Instant Oatmeal holds its texture has excellent flavor and is good for you all at the same time McCann's regular oat meal is excellent too but may take a bit longer to prepare than most have time for in the morning This is the best instant brand I've ever eaten and a very close second to the non instant variety McCann's Instant Irish Oatmeal Variety Pack of Regular Apples Cinnamon and Maple Brown Sugar 10 Count Boxes Pack of 6, Score: 5 \n",
      "\n",
      "Review: McCann's Instant Irish Oatmeal Variety Pack of Regular Apples Cinnamon and Maple Brown Sugar 10 Count Boxes Pack of 6 I'm a fan of the McCann's steel cut oats so I thought I'd give the instant variety a try I found it to be a hardy meal not too sweet and great for folks like me post bariatric surgery who need food that is palatable easily digestible with fiber but won't make you bloat, Score: 4 \n",
      "\n",
      "Review: For those of us with celiac disease this product is a lifesaver and what could be better than getting it at almost half the price of the grocery or health food store I love McCann's instant oatmeal all flavors Thanks Abby, Score: 5 \n",
      "\n",
      "Review: What else do you need to know Oatmeal instant make it with a half cup of low fat milk and add raisins nuke for 90 seconds More expensive than Kroger store brand oatmeal and maybe a little tastier or better texture or something It's still just oatmeal Mmm convenient, Score: 5 \n",
      "\n",
      "Review: I WAS VISITING MY FRIEND NATE THE OTHER MORNING FOR COFFEE HE CAME OUT OF HIS STORAGE ROOM WITH A PACKET OF McCANNS INSTANT IRISH OATMEAL HE SUGGESTED THAT I TRY IT FOR MY OWN USE IN MY STASH SOMETIMES NATE DOSE NOT GIVE YOU A CHANCE TO SAY NO SO I ENDED UP TRYING THE APPLE AND CINN FOUND IT TO BE VERY TASTEFULL WHEN MADE WITH WATER OR POWDERED MILK IT GOES GOOD WITH O J AND COFFEE AND A SLICE OF TOAST AND YOUR READY TO TAKE ON THE WORLD OR THE DAY AT LEAST JERRY REITH, Score: 4 \n",
      "\n",
      "Review: I ordered this for my wife as it was reccomended by our daughter She has this almost every morning and likes all flavors She's happy I'm happy <a href, Score: 5 \n",
      "\n",
      "Review: The variety packs taste great I have them every morning At 0 30 cents per meal I don't understand why everyone on earth isn't buying this stuff up Maple and brown sugar is terrific followed by apples and cinnamon followed by regular You don't get tired of the same ole thing and they taste great I just boil water from a small pot empty the packet or 2 in a bowl pour in boiling water and watch it expand to 2x its size Taste really good and takes minutes to prepare Not sure why everyone on earth isn't this Convenient healthy very quick excellent quality and extremely cheap, Score: 5 \n",
      "\n",
      "Review: McCann's makes oatmeal for every oatmeal connoisseur whether one likes it from the raw pellet state that cooks for half an hour to the sloth addled instant which can be done in the microwave for under three minutes It's all good that's for sure and the beauty of the instant variety is that it is available in different flavors as well as regular This variety pack allows different tastes to be explored as well as giving you a chance to experience the difference between McCann's and other well known oatmeals What I personally like about McCann's is that it cooks up thicker and with more body than the top brand here in America The Apples Cinnamon though tends to be a little liquidy so you may want to experiment with the amount of water you add In my 1300watt microwave the oatmeal cooks up in about one minute and twenty seven seconds so you should also watch that to get a handle on how much time and water to use The only bad thing if you can consider it a bad thing about this offering is that you have to buy in lot so you'll end up with six ten count boxes This is good if you have a whole family of oatmeal eaters but if you're a single person alone well love oatmeal, Score: 5 \n",
      "\n",
      "Review: I have McCann's Oatmeal every morning and by ordering it from Amazon I am able to save almost 3 00 per box It is a great product Tastes great and very healthy, Score: 5 \n",
      "\n",
      "Review: McCann's Oatmeal is a good quality choice Our favorite is the Apples and Cinnamon but we find that none of these are overly sugary For a good hot breakfast in 2 minutes this is excellent, Score: 5 \n",
      "\n",
      "Review: We really like the McCann's steel cut oats but find we don't cook it up too often This tastes much better to me than the grocery store brands and is just as convenient Anything that keeps me eating oatmeal regularly is a good thing, Score: 5 \n",
      "\n",
      "Review: This seems a little more wholesome than some of the supermarket brands but it is somewhat mushy and doesn't have quite as much flavor either It didn't pass muster with my kids so I probably won't buy it again, Score: 3 \n",
      "\n",
      "Review: Good oatmeal I like the apple cinnamon the best Though I wouldn't follow the directions on the package since it always comes out too soupy for my taste That could just be me since I like my oatmeal really thick to add some milk on top of, Score: 5 \n",
      "\n",
      "Review: The flavors are good However I do not see any differce between this and Oaker Oats brand they are both mushy, Score: 3 \n",
      "\n",
      "Review: I really like the Maple and Brown Sugar flavor The regular is fine with brown sugar added The Apples and Cinnamon flavor is OK This is a very quick easy and satisfying breakfast and I'll order this brand again but not the variety I'll get all Maple and Brown Sugar, Score: 4 \n",
      "\n",
      "Review: This is the same stuff you can buy at the big box stores There is nothing healthy about it It is just carbs and sugars Save your money and get something that at least has some taste, Score: 3 \n",
      "\n",
      "Review: This oatmeal is not good Its mushy soft I don't like it Quaker Oats is the way to go, Score: 1 \n",
      "\n",
      "Review: Got a free package of these with a bottle of bloody mary mix I bought from the seller and the advertising worked lol I tried them and shared them with 2 buddies and we all loved them So im here to buy more and noticed there were no reviews yet well now there is They are Hot but not burn your mouth forever hot its a nice temp Perfect for us, Score: 5 \n",
      "\n",
      "Review: This wasn't in stock the last time I looked I had to go to the Vermont Country Store in Weston to find it along with a jaw harp Cranberry Horseradish Sauce Fartless Black Bean Salsa Apple Cider Jelly Newton's Cradle Art in Motion and the staple Vermont Maple Syrup Back to the Ass Kickin Peanuts They are hot They will activate the perspiration glands behind your ears and under your arms It requires a beverage as advertised a glass of very cold milk and a box of Kleenex since it will make your nose run They look like ordinary peanuts which is already giving me ideas for work I suspect that some people have been hitting my goodies in my absence especially my colleague Greg I'm going to take this to work at earliest opportunity and empty the contents of this can into an ordinary Planters Peanuts can and then see whose crying or whose nose is running when I return The can should be shaken to ensure the spices are evenly distributed It is important to wash your hands after consumption and not touch the eyes You'll go nuts over these Ass Kickin' Peanuts P S I'm not sharing the peanuts not deliberately and I'll probably give Greg the jaw harp for Christmas He'll be so insulted, Score: 4 \n",
      "\n",
      "Review: we're used to spicy foods down here in south texas and these are not at all spicy doubt very much habanero is used at all could take it up a notch or two, Score: 3 \n",
      "\n",
      "Review: I roast at home with a stove top popcorn popper but I do it outside of course These beans Coffee Bean Direct Green Mexican Altura seem to be well suited for this method The first and second cracks are distinct and I've roasted the beans from medium to slightly dark with great results every time The aroma is strong and persistent The taste is smooth velvety yet lively, Score: 4 \n",
      "\n",
      "Review: We roast these in a large cast iron pan on the grill about 1 3 of the bag at a time The smell is wonderful and the roasted beans taste delicious too More importantly the coffee is smooth no bitter aftertaste On numerous occasions we've had to send the roasted beans home with friends because they like it so much, Score: 5 \n",
      "\n",
      "Review: Deal was awesome Arrived before Halloween as indicated and was enough to satisfy trick or treaters I love the quality of this product and it was much less expensive than the local store's candy, Score: 5 \n",
      "\n",
      "Review: It is chocolate what can I say Great variety of everything our family loves With a family of six it goes fast here Perfect variety Kit Kat Reeses take five and more, Score: 5 \n",
      "\n",
      "Review: Great product nice combination of chocolates and perfect size The bags had plenty and they were shipped promptly The kids in the neighborhood liked our candies, Score: 5 \n",
      "\n",
      "Review: Halloween is over but I sent a bag to my daughters class for her share The chocolate was fresh and enjoyed by many, Score: 5 \n",
      "\n",
      "Review: Watch your prices with this While the assortment was good and I did get this on a gold box purchase the price for this was 3 4 less at Target, Score: 3 \n",
      "\n",
      "Review: This bag of candy online is pretty expensive it should be cheaper in order to compete with grocery stores other than that its a good combination of my favorite candy, Score: 5 \n",
      "\n",
      "Review: Arrived in 6 days and were so stale i could not eat any of the 6 bags, Score: 1 \n",
      "\n",
      "Review: I have used the endurolyte product for several years in both pill and powder form Long desert rides on the dirt bike always found my camelbak water heavily laced with the endurolyte powder not overly tasty but quite effective as I never got a cramp on these several hundred mile rides Same for desert racing in the buggy the camelbaks were always laced with the powder Now we have the Fizz what a great product Firstly its Hammer's endurolyte product so it's great endurance athlete's the world over use their products Second its convenient handly tablets that dissovle in a fizz Third it tastes great Imagine getting a nice cool drink when your body is starving for hydration and electrolytes and rather than getting a salty taste, Score: 5 \n",
      "\n",
      "Review: This product serves me well as a source of electrolytes during and after a long run or bike ride I have tried all of the flavors but really do like the grapefruit flavor no after taste and I actually like the slight carbonation I use other Hammer products and really like their whole product line, Score: 5 \n",
      "\n",
      "Review: This stuff really works for preventing cramping during the middle to latter stages of your rides Pop 1 into each water bottle and you're set Flavor is fine and goes down easy, Score: 5 \n",
      "\n",
      "Review: For those of us on a low carb diet these little tablets are just the thing Two years ago I started cycling again after many years but was having heart arrhythmia after longer rides in high heat I was drinking plain water but did a little research and thought electrolytes might be the issue Gatorade wasn't an option because it is so loaded with carbohydrates so I looked around for a low carb alternative The zero carb sports drinks didn't help so what to do One day I ran across these at my bike shop so tried a tube of them voila problem solved I've shared them with two friends in particular whose problems with leg cramps were resolved while using these These guys got it right they are superbly formulated and simply work, Score: 5 \n",
      "\n",
      "Review: I purchased the Mango flavor and to me it doesn't take like Mango at all There is no hint of sweetness and unfortunately there is a hint or aftertaste almost like licorice I've been consuming various sports nutrition products for decades so I'm familiar and have come to like the taste of the most of the products I've tried The mango flavor is one of the least appealing I've tasted It's not terrible but it's bad enough that I notice the bad taste every sip I take, Score: 2 \n",
      "\n",
      "Review: If you're impulsive like me then 6 is ok Don't get me wrong the quality of these babies is very good and I have no complaints But in retrospect the price is a little ridiculous esp when you add on the shipping, Score: 3 \n",
      "\n",
      "Review: this was sooooo deliscious but too bad i ate em too fast and gained 2 pds my fault, Score: 5 \n",
      "\n",
      "Review: These Albanese gummi bears and rings and so on are very good and tasty and high quality The bears even have little faces At my local candy store this type of gummi stuff bears rings snakes balls worms whatever are about 10 lb These twin packs of 4 5 or 5 pound bags is a screaming deal as far as I'm concerned I'm probably 50 pounds deep in these friggin' things Consumed, Score: 5 \n",
      "\n",
      "Review: Grape gummy bears are hard to find in my area In fact pretty much anyone I talk to about grape gummy bears they think I'm lying So I bought 10lbs These bears are a little bit bigger then the other brands and have kind of sour kick but nothing to strong I love grape flavored candy soda and these are pretty good There is another company that makes grape gummy bears that are a little bit better in my opinion but these are well worth it for the price I like to use the gummy bears in home made Popsicles with flavored sports drink The salt in the sports drink makes for softer popsicles and the gummy bears are awesome frozen They are delicious, Score: 5 \n",
      "\n",
      "Review: I ordered two of these and two of raspberry latice tarts directly from FantasiCakes website for a dinner party I was hosting It arrived fresh and intact Very good size I froze half for later use I am a pastry lover and these were the best I've ever tasted The pastry was soft the jam was really good and the taste was great They were gone in no time My guests were really impressed, Score: 5 \n",
      "\n",
      "Review: Buyer Beware Please This sweetener is not for everybody Maltitol is an alcohol sugar and can be undigestible in the body You will know a short time after consuming it if you are one of the unsuspecting many who cannot digest it by the extreme intestinal bloating and cramping and massive amounts of gas a person can experience Nausea diarrhea headaches can also be experienced I learned my lesson the hard way years ago when I fell in love with the sugar free chocolates suzanne sommers used to sell I thought I'd found sugar free chocolate nirvana at first taste but the bliss was short lived when the terrible side effects of maltitol kicked in The discomfort was unlike anything I had ever felt before I blew up like a balloon and had very painful abdominal cramping As the symptoms passed this too was very unpleasant Though hard for me to believe a low calorie sweetener could be the culprit all symptoms were gone when I stopped eating the chocolate My hunch it had something to do with the maltitol were unfortunately confirmed for me about a year later when I purchased some delicious sugar free popcorn at my local market The taste was amazing and while I was looking at the label wondering what could possibly make this yummy new sugarfree treat taste so good my heart sank when I followed the little asterisk next to sugarfree sweetener down to the very bottom of the label and read maltitol in tiny little letters Thank goodness I'd eaten only a little I still ended up with all the same side effects but for a much shorter duration Some people can use maltitol to their heart's content but others, Score: 1 \n",
      "\n",
      "Review: It is okay I would not go out of my way to buy it again, Score: 2 \n",
      "\n",
      "Review: No tea flavor at all Just whole brunch of artifial flavors It is not returnable I wasted 20 bucks, Score: 1 \n",
      "\n",
      "Review: These looked like a perfect snack to through in with my trail mix Unfortunately they arrived in a solid mass of melted chocolate I left them in my pantry for a few days and when I opened them at room temperature they were still gooey I through them in the fridge and I've been breaking off hunks ever since They taste good to me but the chocolate is all grainy after melting and then solidifying again I won't order them online again but if I see them in a store I would pick them up, Score: 5 \n",
      "\n",
      "Review: These taste really good I have been purchasing a different brand and these are very similar in taste and texture I agree with the other reviewer regarding ordering in the summer There is no insulating packaging with ice packs so they will melt in warm weather like all chocolate food items Order in cold weather and buy enough to last, Score: 5 \n",
      "\n",
      "Review: The taste was great but the berries had melted May order again in winter If you order in cold weather you should enjoy flavor, Score: 3 \n",
      "\n",
      "Review: i know i cannot make tea this good granted i am not from the south but i know i have never enjoyed tea that was this sweet without being too sweet it tastes crisp, Score: 5 \n",
      "\n",
      "Review: This peppermint stick is delicious and fun to eat My dad got me one for Christmas because he remembered me having a similar one when I was a little girl I'm 30 now and I love it, Score: 5 \n",
      "\n",
      "Review: Great gift for all ages I purchased these giant canes before and the recipients loved them so much they kept them and would not eat them, Score: 4 \n",
      "\n",
      "Review: I know the product title says Molecular Gastronomy but don't let that scare you off I have been looking for this for a while now not for food science but for something more down to earth I use it to make my own coffee creamer I have to have my coffee blonde and sweet but the flavored creamers are full of the bad kinds of fat and honestly I hate to use manufactured food items I really don't think they are good for the body On the other hand, Score: 5 \n",
      "\n",
      "Review: While my dogs like all of the flavors that we have tried of this dog food for some reason their itching increased when I tried the lamb and rice I have some very itchy dogs and am giving them a limited ingredient dog food to try to help The duck and sweet potato cut down on the itching significantly but when we tried lamb and rice they started itching more once again I like Natural Balance for the quality ingredients, Score: 3 \n",
      "\n",
      "Review: Awesome dog food However when given to my Boston, Score: 3 \n",
      "\n",
      "Review: We have three dogs and all of them love this food We bought it specifically for one of our dogs who has food allergies and it works great for him no more hot spots or tummy problems I LOVE that it ships right to our door with free shipping, Score: 5 \n",
      "\n",
      "Review: My dog has a ton of allergies both environmental and food She was on a prescription dog food before we had her tested to see what allergies she has After we got the test back we learned she was allergic to something in the prescription brand So I finally found this dog food and she has done so well on this She still has her environmental triggers but I am happy she can finally eat something I know won't cause her pain, Score: 5 \n",
      "\n",
      "Review: My shepherd collie mix has IBS Our vet recommended a limited ingredient food This has really helped her symptoms and she likes it I will always buy it from Amazon it's 10 cheaper and free shipping, Score: 5 \n",
      "\n",
      "Review: Natural Balance Dry Dog Food Lamb Meal and Brown Rice Recipe did wonders for my Jack Russell She has awful food allergy's and this food was our last hope because it was the last food we could find that didn't have SOMETHING in it that she was allergic to She has no problem eating it dry but normally I mix the Natural Balance Dry Lamb and Brown Rice with the Natural Balance Wet Lamb and Brown Rice she seems to like that better We started feeding it to our other dog a Bichon too and she loves it If your dog has allergy's or stomach issue or if you want your dog to eat better food this is it You will see a difference in your pet, Score: 5 \n",
      "\n",
      "Review: Great food I love the idea of one food for all ages breeds Ît's a real convenience as well as a really good product My 3 dogs eat less have almost no gas their poop is regular and a perfect consistency what else can a mom ask for, Score: 5 \n",
      "\n",
      "Review: I have a standard poodle and pomeranian who both do wonderful on this food I have switched them to a different food due to price a couple of times and end up going right back to natural balance, Score: 5 \n",
      "\n",
      "Review: This is great dog food my dog has severs allergies and this brand is the only one that we can feed him, Score: 5 \n",
      "\n",
      "Review: This food is great all ages dogs I have a 3 year old and a puppy They are both so soft and hardly ever get sick The food is good especially when you have Amazon Prime shipping, Score: 5 \n",
      "\n",
      "Review: My golden retriever is one of the most picky dogs I've ever met After experimenting with various types of food I have found she loves natural balance What I really like about natural balance is the fact that it has multiple flavors in dry and wet varieties I mix her dry food with a little wet food and my golden loves it Furthermore I do like mixing up the flavors each time as I think the same meal day over day might get a little boring so I figured why not I tend to stay away from the fish type though as it smells Additionally I started purchasing off Amazon because Petco didn't have the wet food box and only had a couple of cans I came home and to my surprise realized that I could save 20 each time I bought dog food if I just buy it off Amazon All in all I definitely recommend and give my stamp of approval to natural balance dog food While I have never eaten it my dog seems to love it, Score: 5 \n",
      "\n",
      "Review: This is the same food we get at pet store But it's delivered to my door And for the same price or slightly less, Score: 5 \n",
      "\n",
      "Review: I've been very pleased with the Natural Balance dog food Our dogs have had issues with other dog foods in the past and I had someone recommend Natural Balance grain free since it is possible they were allergic to grains Since switching I haven't had any issues It is also helpful that have have different kibble size for larger smaller sized dogs, Score: 5 \n",
      "\n",
      "Review: My 1 1 2 year old basenji jack russell mix loves this dog food He's been noticeably healthier and more energetic since I switched him over from the standard dog foods earlier this year Despite the higher cost of natural dog foods I find that he eats significantly less of the Natural Balance dog foods and still stays happy and full On the normal dog foods he'd eat up to 3 cups of dog food a day the recommended serving for his size whereas he only eats about 1 cup to 1 1 2 cup of the Natural Balance dog food a day When you take this into account you're actually getting more bang for your buck with the natural dog foods since you don't have to buy as much to last just as long as the normal dog foods and a healthier, Score: 5 \n",
      "\n",
      "Review: Our pup has experienced allergies in forms of hotspots and itching from other dog foods The cheap 'you can buy it anywhere' food not only have crazy preservatives in them but can cause health problems for your pets This food works wonders on reducing allergies and our dog loves the food This message is RAMSEY FrAnkenSteiN approved, Score: 5 \n",
      "\n",
      "Review: My English Bulldog had skin allergies the summer we got him at age 3 The vet recommended we wean him off the food his previous owner gave him Iams Lamb and Rice and onto a new kind This was the second one we tried and it has been working ever since It's for dogs that need a limited diet who can be sensitive to additives and proteins commonly found in commercial dog food like chicken or beef, Score: 5 \n",
      "\n",
      "Review: I fed this to my Golden Retriever and he hated it He wouldn't eat it and when he did it gave him terrible diarrhea We will not be buying this again It's also super expensive, Score: 1 \n",
      "\n"
     ]
    }
   ],
   "source": [
    "# Add index\n",
    "indexed_text_rdd = reviews_text_rdd.zipWithIndex()\n",
    "indexed_score_rdd = reviews_score_rdd.zipWithIndex()\n",
    "\n",
    "text_index = set(indexed_text_rdd.map(lambda x: x[1]).collect())\n",
    "score_index = set(indexed_score_rdd.map(lambda x: x[1]).collect())\n",
    "\n",
    "# Check which RDD has more or fewer elements\n",
    "text_miss = score_index - text_index\n",
    "score_miss = text_index - score_index\n",
    "\n",
    "# Missing index information\n",
    "if text_miss:\n",
    "    print(f\"Missing text for the following indices: {text_miss}\")\n",
    "if score_miss:\n",
    "    print(f\"Missing score for the following indices: {score_miss}\")\n",
    "\n",
    "# Filter out the missing indices so that both RDDs match in count\n",
    "reviews_text_rdd = indexed_text_rdd.filter(lambda x: x[1] not in score_miss).map(lambda x: x[0])\n",
    "reviews_score_rdd = indexed_score_rdd.filter(lambda x: x[1] not in text_miss).map(lambda x: x[0])\n",
    "\n",
    "print(f\"Filtered Text count: {reviews_text_rdd.count()}, Filtered Score count: {reviews_score_rdd.count()}\")\n",
    "\n",
    "# Zip the two RDDs together and show first 100 pairs\n",
    "pairwise_rdd = reviews_text_rdd.zip(reviews_score_rdd)\n",
    "for text, score in pairwise_rdd.take(100):\n",
    "    print(f\"Review: {text}, Score: {score} \\n\")\n"
   ]
  },
  {
   "cell_type": "markdown",
   "metadata": {},
   "source": [
    "## 1.2 Exploratory Data Analysis"
   ]
  },
  {
   "cell_type": "markdown",
   "metadata": {},
   "source": [
    "### 1.2.1 Basic information about score"
   ]
  },
  {
   "cell_type": "markdown",
   "metadata": {},
   "source": [
    "- Visualization of score distribution."
   ]
  },
  {
   "cell_type": "code",
   "execution_count": 8,
   "metadata": {},
   "outputs": [
    {
     "data": {
      "image/png": "[encoded data removed]",
      "text/plain": [
       "<Figure size 921.6x691.2 with 1 Axes>"
      ]
     },
     "metadata": {
      "needs_background": "light"
     },
     "output_type": "display_data"
    }
   ],
   "source": [
    "import matplotlib.pyplot as plt\n",
    "\n",
    "# Group by 'score' to count the number of reviews per rating\n",
    "reviews_score_df = reviews_score_df.filter((reviews_score_df[\"score\"] >= 1) & (reviews_score_df[\"score\"] <= 5))\n",
    "rating_counts_df = reviews_score_df.groupBy(\"score\").count()\n",
    "\n",
    "rating_counts = rating_counts_df.collect()\n",
    "\n",
    "# Extract ratings and counts into lists for plotting\n",
    "ratings = [row['score'] for row in rating_counts]\n",
    "counts = [row['count'] for row in rating_counts]\n",
    "\n",
    "# Sort ratings and counts to ensure the bars are ordered by rating\n",
    "ratings, counts = zip(*sorted(zip(ratings, counts)))\n",
    "\n",
    "# Plot the bar chart with a linear y-axis \n",
    "fig, ax = plt.subplots(figsize=(12.8, 9.6)) \n",
    "bars = ax.bar(ratings, counts, color=['tab:red', 'tab:blue', 'tab:green', 'tab:orange', 'tab:purple'])\n",
    "\n",
    "# Set labels and title\n",
    "ax.set_xlabel('Rating')\n",
    "ax.set_ylabel('Number of reviews')\n",
    "ax.set_title('Number of reviews for each rating')\n",
    "\n",
    "# Add text boxes on top of each bar to show the exact count\n",
    "for bar, count in zip(bars, counts):\n",
    "    height = bar.get_height()\n",
    "    ax.text(\n",
    "        bar.get_x() + bar.get_width() / 2, height,   \n",
    "        f'{count}',                                  \n",
    "        ha='center', va='bottom',                    \n",
    "        bbox=dict(facecolor='white', edgecolor='pink', boxstyle='round,pad=0.3') \n",
    "    )\n",
    "\n",
    "# Show the plot\n",
    "plt.show()"
   ]
  },
  {
   "cell_type": "markdown",
   "metadata": {},
   "source": [
    "From the bar plot, we can see the distribution is not balanced. Rating 5 has a significant higher number of reviews(17521) compared to the other classes while rating 2 has the lowest number(4157). Ratings 1 and 4 have similar numbers, but still much lower than Rating 5.Overall, the class distribution is not balanced, with a majority of the reviews being highly positive, indicating that users' reviews more positive."
   ]
  },
  {
   "cell_type": "markdown",
   "metadata": {},
   "source": [
    "## 1.3 Model Training"
   ]
  },
  {
   "cell_type": "markdown",
   "metadata": {},
   "source": [
    "### 1.3.1 Feature extraction using BOW"
   ]
  },
  {
   "cell_type": "markdown",
   "metadata": {},
   "source": [
    "- Split the clean dataset into separate train and test sets."
   ]
  },
  {
   "cell_type": "code",
   "execution_count": 9,
   "metadata": {},
   "outputs": [
    {
     "name": "stdout",
     "output_type": "stream",
     "text": [
      "Requirement already satisfied: nltk in /opt/conda/lib/python3.8/site-packages (3.9.1)\n",
      "Requirement already satisfied: tqdm in /opt/conda/lib/python3.8/site-packages (from nltk) (4.51.0)\n",
      "Requirement already satisfied: joblib in /opt/conda/lib/python3.8/site-packages (from nltk) (0.17.0)\n",
      "Requirement already satisfied: regex>=2021.8.3 in /opt/conda/lib/python3.8/site-packages (from nltk) (2024.9.11)\n",
      "Requirement already satisfied: click in /opt/conda/lib/python3.8/site-packages (from nltk) (7.1.2)\n"
     ]
    }
   ],
   "source": [
    "!pip install nltk\n",
    "from pyspark.sql import Row\n",
    "from pyspark.ml.feature import CountVectorizer, StopWordsRemover, Tokenizer\n",
    "from pyspark.ml.classification import LogisticRegression\n",
    "from pyspark.ml.evaluation import MulticlassClassificationEvaluator\n",
    "from pyspark.sql import SparkSession\n",
    "from nltk.corpus import stopwords\n",
    "import nltk"
   ]
  },
  {
   "cell_type": "code",
   "execution_count": 10,
   "metadata": {},
   "outputs": [
    {
     "name": "stderr",
     "output_type": "stream",
     "text": [
      "[nltk_data] Downloading package stopwords to /home/jovyan/nltk_data...\n",
      "[nltk_data]   Package stopwords is already up-to-date!\n"
     ]
    },
    {
     "name": "stdout",
     "output_type": "stream",
     "text": [
      "+--------------------+------+\n",
      "|              Review|Rating|\n",
      "+--------------------+------+\n",
      "|I have bought sev...|     5|\n",
      "|Product arrived l...|     1|\n",
      "|This is a confect...|     4|\n",
      "|If you are lookin...|     2|\n",
      "|Great taffy at a ...|     5|\n",
      "|I got a wild hair...|     4|\n",
      "|This saltwater ta...|     5|\n",
      "|This taffy is so ...|     5|\n",
      "|Right now I'm mos...|     5|\n",
      "|This is a very he...|     5|\n",
      "|I don't know if i...|     5|\n",
      "|One of my boys ne...|     5|\n",
      "|My cats have been...|     1|\n",
      "|good flavor these...|     4|\n",
      "|The Strawberry Tw...|     5|\n",
      "|My daughter loves...|     5|\n",
      "|I love eating the...|     2|\n",
      "|I am very satisfi...|     5|\n",
      "|Twizzlers Strawbe...|     5|\n",
      "|Candy was deliver...|     5|\n",
      "+--------------------+------+\n",
      "only showing top 20 rows\n",
      "\n"
     ]
    }
   ],
   "source": [
    "# Download stopwords from NLTK\n",
    "nltk.download('stopwords')\n",
    "\n",
    "\n",
    "# Combine reviews_text_rdd and reviews_score_rdd into a single RDD\n",
    "combined_rdd = reviews_text_rdd.zip(reviews_score_rdd)\n",
    "\n",
    "# Convert RDD to DataFrame (pairing text and score)\n",
    "df = combined_rdd.map(lambda x: Row(Review=x[0], Rating=x[1])).toDF()\n",
    "\n",
    "# Show the DataFrame for verification\n",
    "df.show()\n",
    "\n",
    "# Split the DataFrame into train (70%) and test (30%) sets\n",
    "train_df, test_df = df.randomSplit([0.7, 0.3], seed=42)\n",
    "\n",
    "# Tokenize the review text \n",
    "tokenizer = Tokenizer(inputCol=\"Review\", outputCol=\"words\")\n",
    "train_data = tokenizer.transform(train_df)\n",
    "test_data = tokenizer.transform(test_df)\n",
    "\n",
    "# Remove stopwords\n",
    "stop_words = stopwords.words('english')\n",
    "stop_words.extend(['amazon', 'one', 'product', 'tried', 'time', 'get'])\n",
    "\n",
    "remover = StopWordsRemover(inputCol=\"words\", outputCol=\"filtered_review\", stopWords=stop_words)\n",
    "train_data = remover.transform(train_data)\n",
    "test_data = remover.transform(test_data)"
   ]
  },
  {
   "cell_type": "markdown",
   "metadata": {},
   "source": [
    "### 1.3.2 Using Logistic Regression model for training"
   ]
  },
  {
   "cell_type": "markdown",
   "metadata": {},
   "source": [
    "- The first classification model using Logistic Regression:"
   ]
  },
  {
   "cell_type": "code",
   "execution_count": 11,
   "metadata": {},
   "outputs": [
    {
     "name": "stdout",
     "output_type": "stream",
     "text": [
      "Results of predictions using Logistic Regression model:\n",
      "+----------+------+\n",
      "|prediction|Rating|\n",
      "+----------+------+\n",
      "|       3.0|     3|\n",
      "|       5.0|     5|\n",
      "|       5.0|     5|\n",
      "|       5.0|     5|\n",
      "|       5.0|     5|\n",
      "|       3.0|     3|\n",
      "|       5.0|     5|\n",
      "|       4.0|     3|\n",
      "|       5.0|     5|\n",
      "|       5.0|     3|\n",
      "|       5.0|     5|\n",
      "|       5.0|     1|\n",
      "|       5.0|     5|\n",
      "|       5.0|     5|\n",
      "|       5.0|     3|\n",
      "|       5.0|     5|\n",
      "|       5.0|     5|\n",
      "|       5.0|     3|\n",
      "|       3.0|     3|\n",
      "|       5.0|     5|\n",
      "|       5.0|     3|\n",
      "|       5.0|     1|\n",
      "|       5.0|     3|\n",
      "|       5.0|     1|\n",
      "|       5.0|     5|\n",
      "|       3.0|     3|\n",
      "|       5.0|     1|\n",
      "|       5.0|     5|\n",
      "|       5.0|     5|\n",
      "|       4.0|     4|\n",
      "+----------+------+\n",
      "only showing top 30 rows\n",
      "\n",
      "Test Accuracy: 0.4787950383933845\n"
     ]
    }
   ],
   "source": [
    "# Vectorize the text using Spark's CountVectorizer\n",
    "vectorizer = CountVectorizer(inputCol=\"filtered_review\", outputCol=\"features\", vocabSize=10000)\n",
    "vectorizer_model = vectorizer.fit(train_data)\n",
    "\n",
    "train_data_BOW = vectorizer_model.transform(train_data)\n",
    "test_data_BOW = vectorizer_model.transform(test_data)\n",
    "\n",
    "# Initialize logistic regression model \n",
    "lr = LogisticRegression(maxIter=200, labelCol=\"Rating\")\n",
    "\n",
    "# Train the logistic regression model using the BoW features\n",
    "lr_model = lr.fit(train_data_BOW)\n",
    "\n",
    "# Make predictions on the test data\n",
    "lr_predictions = lr_model.transform(test_data_BOW)\n",
    "\n",
    "# Select prediction and true label columns to evaluate\n",
    "print(\"Results of predictions using Logistic Regression model:\")\n",
    "lr_predictions.select( \"prediction\", \"Rating\").show(30)\n",
    "\n",
    "# Evaluate the model using accuracy\n",
    "evaluator = MulticlassClassificationEvaluator(labelCol=\"Rating\", predictionCol=\"prediction\", metricName=\"accuracy\")\n",
    "accuracy = evaluator.evaluate(lr_predictions)\n",
    "print(f\"Test Accuracy: {accuracy}\")"
   ]
  },
  {
   "cell_type": "markdown",
   "metadata": {},
   "source": [
    "### 1.3.3 Using Randon Forest model for training"
   ]
  },
  {
   "cell_type": "markdown",
   "metadata": {},
   "source": [
    "- The second classification model using Random Forest(may take long time):"
   ]
  },
  {
   "cell_type": "code",
   "execution_count": 12,
   "metadata": {},
   "outputs": [
    {
     "name": "stdout",
     "output_type": "stream",
     "text": [
      "Results of predictions using RandomForest model:\n",
      "+----------+------+\n",
      "|prediction|Rating|\n",
      "+----------+------+\n",
      "|       5.0|     3|\n",
      "|       4.0|     5|\n",
      "|       1.0|     5|\n",
      "|       1.0|     5|\n",
      "|       5.0|     5|\n",
      "|       1.0|     3|\n",
      "|       5.0|     5|\n",
      "|       3.0|     3|\n",
      "|       5.0|     5|\n",
      "|       5.0|     3|\n",
      "|       5.0|     5|\n",
      "|       5.0|     1|\n",
      "|       5.0|     5|\n",
      "|       5.0|     5|\n",
      "|       5.0|     3|\n",
      "|       5.0|     5|\n",
      "|       5.0|     5|\n",
      "|       5.0|     3|\n",
      "|       5.0|     3|\n",
      "|       5.0|     5|\n",
      "|       5.0|     3|\n",
      "|       5.0|     1|\n",
      "|       5.0|     3|\n",
      "|       5.0|     1|\n",
      "|       5.0|     5|\n",
      "|       5.0|     3|\n",
      "|       1.0|     1|\n",
      "|       4.0|     5|\n",
      "|       5.0|     5|\n",
      "|       5.0|     4|\n",
      "+----------+------+\n",
      "only showing top 30 rows\n",
      "\n",
      "Test Accuracy: 0.42847017129356174\n"
     ]
    }
   ],
   "source": [
    "from pyspark.ml.feature import IDF\n",
    "from pyspark.ml.classification import RandomForestClassifier\n",
    "from pyspark.ml.evaluation import MulticlassClassificationEvaluator\n",
    "from pyspark.sql.functions import col\n",
    "\n",
    "# Apply TF-IDF Transformation to the training data \n",
    "idf = IDF(inputCol=\"features\", outputCol=\"tfidf_features\")\n",
    "idf_model = idf.fit(train_data_BOW)\n",
    "\n",
    "# Transform the training data with TF-IDF features\n",
    "train_data_tfidf = idf_model.transform(train_data_BOW)\n",
    "\n",
    "# Class balancing\n",
    "class_1 = train_data_tfidf.filter(col(\"Rating\") == 1).sample(withReplacement=True, fraction=12.275 / 1.868)\n",
    "class_2 = train_data_tfidf.filter(col(\"Rating\") == 2).sample(withReplacement=True, fraction=12.275 / 1.170)\n",
    "class_3 = train_data_tfidf.filter(col(\"Rating\") == 3).sample(withReplacement=True, fraction=12.275 / 1.733)\n",
    "class_4 = train_data_tfidf.filter(col(\"Rating\") == 4).sample(withReplacement=True, fraction=12.275 / 2.908)\n",
    "class_5 = train_data_tfidf.filter(col(\"Rating\") == 5)\n",
    "\n",
    "# Combine the resampled classes into one balanced dataset\n",
    "balanced_train_data = class_1.union(class_2).union(class_3).union(class_4).union(class_5)\n",
    "\n",
    "# Initialize Random Forest model and training\n",
    "rf = RandomForestClassifier(labelCol=\"Rating\",featuresCol=\"tfidf_features\",numTrees=200,maxDepth=15,minInstancesPerNode=10,maxBins=40)\n",
    "rf_model = rf.fit(balanced_train_data)\n",
    "\n",
    "# Make predictions on the test data \n",
    "test_data_tfidf = idf_model.transform(test_data_BOW)\n",
    "rf_predictions = rf_model.transform(test_data_tfidf)\n",
    "\n",
    "# Evaluation\n",
    "accuracy_evaluator = MulticlassClassificationEvaluator(labelCol=\"Rating\", predictionCol=\"prediction\", metricName=\"accuracy\")\n",
    "accuracy = accuracy_evaluator.evaluate(rf_predictions)\n",
    "print(\"Results of predictions using RandomForest model:\")\n",
    "rf_predictions.select(\"prediction\", \"Rating\").show(30)\n",
    "print(f\"Test Accuracy: {accuracy}\")"
   ]
  },
  {
   "cell_type": "markdown",
   "metadata": {},
   "source": [
    "## 1.4 Model  Evaluation"
   ]
  },
  {
   "cell_type": "markdown",
   "metadata": {},
   "source": [
    "### 1.4.1 Model evaluation for Logistic Regression model"
   ]
  },
  {
   "cell_type": "code",
   "execution_count": 13,
   "metadata": {},
   "outputs": [
    {
     "data": {
      "image/png": "[encoded data removed]",
      "text/plain": [
       "<Figure size 720x576 with 2 Axes>"
      ]
     },
     "metadata": {
      "needs_background": "light"
     },
     "output_type": "display_data"
    }
   ],
   "source": [
    "import matplotlib.pyplot as plt\n",
    "import seaborn as sns\n",
    "from pyspark.ml.evaluation import MulticlassClassificationEvaluator\n",
    "from pyspark.sql import functions as F\n",
    "\n",
    "confusion_matrix_df = lr_predictions.groupBy(\"Rating\", \"prediction\").count().withColumnRenamed(\"count\", \"Frequency\").orderBy(\"Rating\", \"prediction\")\n",
    "\n",
    "# Convert to pandas DataFrame for plotting\n",
    "confusion_matrix_pandas = confusion_matrix_df.toPandas()\n",
    "confusion_matrix = confusion_matrix_pandas.pivot(index=\"Rating\", columns=\"prediction\", values=\"Frequency\")\n",
    "\n",
    "# Plot confusion matrix using heatmap\n",
    "plt.figure(figsize=(10, 8))\n",
    "sns.heatmap(confusion_matrix, annot=True, fmt=\"d\", cmap=\"Blues\")\n",
    "plt.title('Confusion Matrix For Logistic Regression')\n",
    "plt.ylabel('True Rating')\n",
    "plt.xlabel('Predicted Rating')\n",
    "plt.show()"
   ]
  },
  {
   "cell_type": "markdown",
   "metadata": {},
   "source": [
    "Generally speaking, the color bar above shows the frequency of occurrences for each pair of true and predicted labels.\n",
    "Deeper colors (blue) represent higher values, meaning there are more instances where the model predicted that specific label correctly or incorrectly."
   ]
  },
  {
   "cell_type": "markdown",
   "metadata": {},
   "source": [
    "The diagonal elements represent the number of correct classifications where the predicted label matches the true label.\n",
    "* Model correctly identified 152  \"rating 1 reviews\" as rating 1. \n",
    "* Model correctly identified 61  \"rating 2 reviews\" as rating 2.\n",
    "* Model correctly identified 133  \"rating 3 reviews\" as rating 3.\n",
    "* Model correctly identified 294  \"rating 4 reviews\" as rating 4.\n",
    "* Model correctly identified 3413  \"rating 5 reviews\" as rating 5."
   ]
  },
  {
   "cell_type": "markdown",
   "metadata": {},
   "source": [
    "* <span style=\"color:blue\">\n",
    "There are 414 samples that were classified to have the rating of 1 (the lowest rating), but in reality, they had an actual rating of 5 (the highest rating). In contrast, there are 370 samples that were classified to have the rating of 5 (highest), but in reality, they only had an actual rating of 1 (lowest).</span>"
   ]
  },
  {
   "cell_type": "markdown",
   "metadata": {},
   "source": [
    "### 1.4.2 Model evaluation for Random Forest model "
   ]
  },
  {
   "cell_type": "code",
   "execution_count": 14,
   "metadata": {},
   "outputs": [
    {
     "data": {
      "image/png": "[encoded data removed]",
      "text/plain": [
       "<Figure size 720x576 with 2 Axes>"
      ]
     },
     "metadata": {
      "needs_background": "light"
     },
     "output_type": "display_data"
    }
   ],
   "source": [
    "import matplotlib.pyplot as plt\n",
    "import seaborn as sns\n",
    "from pyspark.ml.evaluation import MulticlassClassificationEvaluator\n",
    "from pyspark.sql import functions as F\n",
    "\n",
    "confusion_matrix_df = rf_predictions.groupBy(\"Rating\", \"prediction\").count().withColumnRenamed(\"count\", \"Frequency\").orderBy(\"Rating\", \"prediction\")\n",
    "\n",
    "# Convert to pandas DataFrame for plotting\n",
    "confusion_matrix_pandas = confusion_matrix_df.toPandas()\n",
    "confusion_matrix = confusion_matrix_pandas.pivot(index=\"Rating\", columns=\"prediction\", values=\"Frequency\")\n",
    "\n",
    "# Plot confusion matrix using heatmap\n",
    "plt.figure(figsize=(10, 8))\n",
    "sns.heatmap(confusion_matrix, annot=True, fmt=\"d\", cmap=\"Reds\")\n",
    "plt.title('Confusion Matrix For Random Forest')\n",
    "plt.ylabel('True Rating')\n",
    "plt.xlabel('Predicted Rating')\n",
    "plt.show()\n",
    "\n",
    "spark_classification.stop()"
   ]
  },
  {
   "cell_type": "markdown",
   "metadata": {},
   "source": [
    "The diagonal elements represent the number of correct classifications where the predicted label matches the true label.(nums may be different due to new training process,but approximate)\n",
    "* Model correctly identified 269  \"rating 1 reviews\" as rating 1. \n",
    "* Model correctly identified 52  \"rating 2 reviews\" as rating 2.\n",
    "* Model correctly identified 118  \"rating 3 reviews\" as rating 3.\n",
    "* Model correctly identified 362  \"rating 4 reviews\" as rating 4.\n",
    "* Model correctly identified 2826  \"rating 5 reviews\" as rating 5."
   ]
  },
  {
   "cell_type": "markdown",
   "metadata": {},
   "source": [
    "* <span style=\"color:red\">\n",
    "There are 625 samples that were classified to have the rating of 1 (the lowest rating), but in reality, they had an actual rating of 5 (the highest rating). In contrast, there are 286 samples that were classified to have the rating of 5 (highest), but in reality, they only had an actual rating of 1 (lowest).</span>"
   ]
  },
  {
   "cell_type": "markdown",
   "metadata": {},
   "source": [
    "#  2.Movies Recommendation System (Clustering)"
   ]
  },
  {
   "cell_type": "markdown",
   "metadata": {},
   "source": [
    "## 2.1 Data Preparation"
   ]
  },
  {
   "cell_type": "markdown",
   "metadata": {},
   "source": [
    "### 2.1.1 Load file amazon_prime_movies.csv from HDFS"
   ]
  },
  {
   "cell_type": "code",
   "execution_count": 15,
   "metadata": {},
   "outputs": [],
   "source": [
    "movies_HDFS = \"hdfs://namenode:9000/amazon_prime_movies.csv\"\n",
    "movies_local = \"amazon_prime_movies.csv\""
   ]
  },
  {
   "cell_type": "code",
   "execution_count": 16,
   "metadata": {},
   "outputs": [
    {
     "name": "stdout",
     "output_type": "stream",
     "text": [
      "+-------+--------------------+--------------------+--------------------+--------------------+--------------------------------+--------------------+-----------------+--------------------+-----------------+------------------+--------------------+--------------------+\n",
      "|summary|             show_id|                type|               title|            director|                            cast|             country|       date_added|        release_year|           rating|          duration|           listed_in|         description|\n",
      "+-------+--------------------+--------------------+--------------------+--------------------+--------------------------------+--------------------+-----------------+--------------------+-----------------+------------------+--------------------+--------------------+\n",
      "|  count|                9671|                9670|                9668|                7586|                            8435|                 725|              201|                9653|             9319|              9657|                9657|                9658|\n",
      "|   mean|                null|                null|    9260.57142857143|                 1.0|                             1.0|                null|             null|  2008.4564742589703|          1751.75|          2005.125|  1991.1666666666667|               396.2|\n",
      "| stddev|                null|                null|  20046.764351195954|                 0.0|                             0.0|                null|             null|   18.71709590346298|702.0129730181019|25.698457430081564|   37.82283261029862|   806.3256166090719|\n",
      "|    min|He cannot stay aw...| once he sees one...|      \"\"\"Mixed Up\"\"\"|\"Anthony \"\"CEO Pe...|             Jason dbks Hampton\"|     Adrienne Bailon|   Andrew Calhoun| \"\"Pretty Boy\"\" F...|   Anita Campillo|         Al Bridge|            BJ Minor|         Aaron White|\n",
      "|    max|          ©TV TOKYO\"|             TV Show|_DUPE_The Making ...|            藤村明世|久保陽香, 岡田篤哉, 似鳥美貴,...|United States, Un...|September 9, 2021|                2021|          UNRATED|                 R|Young Adult Audience|“Inside Jokes” fo...|\n",
      "+-------+--------------------+--------------------+--------------------+--------------------+--------------------------------+--------------------+-----------------+--------------------+-----------------+------------------+--------------------+--------------------+\n",
      "\n"
     ]
    }
   ],
   "source": [
    "# Initialize a Sparksession \n",
    "spark_clustering = SparkSession.builder.appName(\"Clustering\").config(\"spark.port.maxRetries\", \"50\").getOrCreate()\n",
    "\n",
    "# Read CSV file from HDFS \n",
    "amazon_movies_data = spark_clustering.read.option(\"multiLine\", \"true\").option(\"header\", \"true\").csv(movies_local)\n",
    "amazon_movies_data.describe().show()"
   ]
  },
  {
   "cell_type": "code",
   "execution_count": 17,
   "metadata": {},
   "outputs": [
    {
     "name": "stdout",
     "output_type": "stream",
     "text": [
      "root\n",
      " |-- show_id: string (nullable = true)\n",
      " |-- movie_or_tv_show: string (nullable = true)\n",
      " |-- title: string (nullable = true)\n",
      " |-- director: string (nullable = true)\n",
      " |-- cast: string (nullable = true)\n",
      " |-- country: string (nullable = true)\n",
      " |-- date_added_platform: string (nullable = true)\n",
      " |-- release_year: string (nullable = true)\n",
      " |-- rating: string (nullable = true)\n",
      " |-- duration_seconds: string (nullable = true)\n",
      " |-- gender_type: string (nullable = true)\n",
      " |-- description: string (nullable = true)\n",
      "\n"
     ]
    }
   ],
   "source": [
    "# Rename columns\n",
    "amazon_movies_data = amazon_movies_data.withColumnRenamed('date_added', 'date_added_platform')\\\n",
    "                         .withColumnRenamed('duration', 'duration_seconds')\\\n",
    "                         .withColumnRenamed('listed_in', 'gender_type')\\\n",
    "                         .withColumnRenamed('type', 'movie_or_tv_show')\n",
    "amazon_movies_data.printSchema()"
   ]
  },
  {
   "cell_type": "markdown",
   "metadata": {},
   "source": [
    "### 2.1.2 Cleansing data and avoid noise"
   ]
  },
  {
   "cell_type": "markdown",
   "metadata": {},
   "source": [
    "- Handing the missing data:"
   ]
  },
  {
   "cell_type": "code",
   "execution_count": 18,
   "metadata": {},
   "outputs": [],
   "source": [
    "# Filling NaN values\n",
    "amazon_movies_data = amazon_movies_data.na.fill({\n",
    "    'cast': 'uninformed cast',\n",
    "    'director': 'uninformed director',\n",
    "    'country': 'uninformed country'\n",
    "})"
   ]
  },
  {
   "cell_type": "code",
   "execution_count": 19,
   "metadata": {},
   "outputs": [],
   "source": [
    "# Delete movie if its attribute has null value\n",
    "amazon_movies_data = amazon_movies_data.dropna(subset=[ 'duration_seconds',  'gender_type','movie_or_tv_show','release_year','rating'])"
   ]
  },
  {
   "cell_type": "markdown",
   "metadata": {},
   "source": [
    "We can see the 'date_added_platform' column has very severe problem of missing values, so we delete this column, we also delete 'show_id' column because it is meaningless."
   ]
  },
  {
   "cell_type": "code",
   "execution_count": 20,
   "metadata": {},
   "outputs": [],
   "source": [
    "# Drop the 'date_added_platform' and 'show_id' columns\n",
    "amazon_movies_data = amazon_movies_data.drop('date_added_platform', 'show_id', 'description')"
   ]
  },
  {
   "cell_type": "code",
   "execution_count": 21,
   "metadata": {},
   "outputs": [
    {
     "name": "stdout",
     "output_type": "stream",
     "text": [
      "+----------------+-----+--------+----+-------+------------+------+----------------+-----------+\n",
      "|movie_or_tv_show|title|director|cast|country|release_year|rating|duration_seconds|gender_type|\n",
      "+----------------+-----+--------+----+-------+------------+------+----------------+-----------+\n",
      "|               0|    0|       0|   0|      0|           0|     0|               0|          0|\n",
      "+----------------+-----+--------+----+-------+------------+------+----------------+-----------+\n",
      "\n"
     ]
    }
   ],
   "source": [
    "from pyspark.sql.functions import col, sum as spark_sum\n",
    "\n",
    "null_count_columns = []\n",
    "\n",
    "for column in amazon_movies_data.columns:\n",
    "    # Count the number of nulls in each column\n",
    "    null_count = spark_sum(col(column).isNull().cast(\"int\")).alias(column)\n",
    "    null_count_columns.append(null_count)\n",
    "\n",
    "amazon_movies_data.select(*null_count_columns).show()\n"
   ]
  },
  {
   "cell_type": "markdown",
   "metadata": {},
   "source": [
    "### 2.1.3 Encode categorical features"
   ]
  },
  {
   "cell_type": "markdown",
   "metadata": {},
   "source": [
    "We need 'gender_type' feature in the dataset to do further clustering. However, the 'gender_type' column is so complex that we can split it into several columns. As data in the 'gender_type' are categorical instead of numeriacal, we also need to transform the data using encoding techniques such as one-hot encoding."
   ]
  },
  {
   "cell_type": "markdown",
   "metadata": {},
   "source": [
    "- Split and expend the 'gender_type' column"
   ]
  },
  {
   "cell_type": "code",
   "execution_count": 22,
   "metadata": {},
   "outputs": [
    {
     "name": "stdout",
     "output_type": "stream",
     "text": [
      "+-----------+-----------------+------------+----------+--------------------+\n",
      "| category_0|       category_1|  category_2|category_3|          category_4|\n",
      "+-----------+-----------------+------------+----------+--------------------+\n",
      "|     ACTION| MILITARY AND WAR|     WESTERN|         -|                   -|\n",
      "|       ARTS|    ENTERTAINMENT| AND CULTURE|    COMEDY| TALK SHOW AND VA...|\n",
      "|     ACTION|          WESTERN|           -|         -|                   -|\n",
      "|DOCUMENTARY|  SCIENCE FICTION|           -|         -|                   -|\n",
      "|  ADVENTURE|        ANIMATION|        KIDS|         -|                   -|\n",
      "|    FANTASY|  SCIENCE FICTION|    SUSPENSE|         -|                   -|\n",
      "|   SUSPENSE|                -|           -|         -|                   -|\n",
      "|     ACTION|                -|           -|         -|                   -|\n",
      "|DOCUMENTARY|            LGBTQ|           -|         -|                   -|\n",
      "|      DRAMA|          ROMANCE|    SUSPENSE|         -|                   -|\n",
      "|     COMEDY| SPECIAL INTEREST|  UNSCRIPTED|         -|                   -|\n",
      "+-----------+-----------------+------------+----------+--------------------+\n",
      "\n"
     ]
    }
   ],
   "source": [
    "from pyspark.sql import functions as F\n",
    "\n",
    "# Convert the 'gender_type' column to uppercase\n",
    "amazon_movies_data = amazon_movies_data.withColumn('gender_type', F.upper(F.col('gender_type')))\n",
    "\n",
    "# Split the 'gender_type' column and expand into separate columns\n",
    "group_dummies = amazon_movies_data.select(F.split(F.col('gender_type'), ',').alias('gender_split'))\n",
    "\n",
    "# Fill null values with '-'\n",
    "group_dummies = group_dummies.withColumn('gender_split', F.expr(\"transform(gender_split, x -> coalesce(x, '-') )\"))\n",
    "\n",
    "# Explode the array into the exact number of split columns \n",
    "max_cols = 5\n",
    "split_cols = [F.col(\"gender_split\")[i].alias(f'category_{i}') for i in range(max_cols)]\n",
    "group_dummies = group_dummies.select(*split_cols)\n",
    "group_dummies = group_dummies.fillna('-')\n",
    "\n",
    "# Show part of new dataframe\n",
    "frame_segment = group_dummies.limit(50).subtract(group_dummies.limit(30))\n",
    "frame_segment.show()"
   ]
  },
  {
   "cell_type": "markdown",
   "metadata": {},
   "source": [
    "- Transform the categorical data into numerical data"
   ]
  },
  {
   "cell_type": "code",
   "execution_count": 23,
   "metadata": {},
   "outputs": [
    {
     "name": "stdout",
     "output_type": "stream",
     "text": [
      "[[1 0 0 ... 0 0 0]\n",
      " [0 0 0 ... 0 0 0]\n",
      " [0 0 0 ... 0 0 0]\n",
      " ...\n",
      " [0 1 0 ... 0 0 0]\n",
      " [1 0 0 ... 0 0 0]\n",
      " [0 1 0 ... 0 0 0]]\n"
     ]
    }
   ],
   "source": [
    "from pyspark.ml.feature import StringIndexer, OneHotEncoder, VectorAssembler\n",
    "from pyspark.ml import Pipeline\n",
    "import numpy as np\n",
    "from pyspark.ml.linalg import DenseVector\n",
    "from pyspark.sql.types import ArrayType, FloatType\n",
    "\n",
    "# Create StringIndexer and OneHotEncoder for each column in group_dummies\n",
    "stages = []\n",
    "for col in group_dummies.columns:\n",
    "    indexer = StringIndexer(inputCol=col, outputCol=col + \"_index\")\n",
    "    encoder = OneHotEncoder(inputCol=col + \"_index\", outputCol=col + \"_vec\")\n",
    "    stages += [indexer, encoder]\n",
    "\n",
    "pipeline = Pipeline(stages=stages)\n",
    "group_dummies_encoded = pipeline.fit(group_dummies).transform(group_dummies)\n",
    "\n",
    "# Use VectorAssembler to combine all one-hot encoded columns into a single feature vector\n",
    "assembler = VectorAssembler(inputCols=[col + \"_vec\" for col in group_dummies.columns], outputCol=\"features\")\n",
    "group_dummies_final = assembler.transform(group_dummies_encoded)\n",
    "\n",
    "# Convert SparseVector to DenseVector\n",
    "group_dummies_final = group_dummies_final.withColumn(\n",
    "    \"dense_features\", F.udf(lambda x: x.toArray().tolist(), ArrayType(FloatType()))(group_dummies_final[\"features\"])\n",
    ")\n",
    "\n",
    "# Collect the data and convert it to a NumPy array\n",
    "X_genre_type = np.array(group_dummies_final.select(\"dense_features\").rdd.map(lambda row: row[\"dense_features\"]).collect(), dtype='uint8')\n",
    "\n",
    "print(X_genre_type)"
   ]
  },
  {
   "cell_type": "markdown",
   "metadata": {},
   "source": [
    "# 2.2 Exploratory Data Analysis"
   ]
  },
  {
   "cell_type": "markdown",
   "metadata": {},
   "source": [
    "### 2.2.1 Count of every categories after spliting"
   ]
  },
  {
   "cell_type": "code",
   "execution_count": 24,
   "metadata": {},
   "outputs": [
    {
     "name": "stdout",
     "output_type": "stream",
     "text": [
      "+-----------------+-----+\n",
      "|category         |count|\n",
      "+-----------------+-----+\n",
      "|DRAMA            |2141 |\n",
      "|ACTION           |1604 |\n",
      "| DRAMA           |1429 |\n",
      "|COMEDY           |1425 |\n",
      "| SUSPENSE        |1245 |\n",
      "|DOCUMENTARY      |828  |\n",
      "| SPECIAL INTEREST|709  |\n",
      "| KIDS            |688  |\n",
      "| COMEDY          |573  |\n",
      "| ROMANCE         |536  |\n",
      "|HORROR           |519  |\n",
      "|ANIMATION        |487  |\n",
      "| AND CULTURE     |430  |\n",
      "| ENTERTAINMENT   |430  |\n",
      "|ARTS             |404  |\n",
      "|KIDS             |367  |\n",
      "| SCIENCE FICTION |364  |\n",
      "| HORROR          |328  |\n",
      "| INTERNATIONAL   |308  |\n",
      "|TV SHOWS         |260  |\n",
      "+-----------------+-----+\n",
      "only showing top 20 rows\n",
      "\n"
     ]
    }
   ],
   "source": [
    "# Stack all the columns into a single column and filter out the '-' values\n",
    "group_dummies_stacked = group_dummies.select(F.explode(F.array(*group_dummies.columns)).alias(\"category\")).filter(F.col('category') != '-')\n",
    "\n",
    "# Count occurrences of each unique element in descending order\n",
    "category_counts = group_dummies_stacked.groupBy(\"category\").count()\n",
    "category_counts_sorted = category_counts.orderBy(F.col(\"count\").desc())\n",
    "\n",
    "# Display the result\n",
    "category_counts_sorted.show(truncate=False)"
   ]
  },
  {
   "cell_type": "markdown",
   "metadata": {},
   "source": [
    "### 2.2.2 Visualization of categorical distribution"
   ]
  },
  {
   "cell_type": "code",
   "execution_count": 25,
   "metadata": {},
   "outputs": [
    {
     "data": {
      "image/png": "[encoded data removed]",
      "text/plain": [
       "<Figure size 1080x432 with 1 Axes>"
      ]
     },
     "metadata": {
      "needs_background": "light"
     },
     "output_type": "display_data"
    }
   ],
   "source": [
    "import matplotlib.pyplot as plt\n",
    "import pandas as pd\n",
    "# Stack all the columns into a single column\n",
    "group_dummies_stacked = group_dummies.select(F.explode(F.array(*group_dummies.columns)).alias(\"category\"))\n",
    "\n",
    "# Filter out the 'kid' element\n",
    "group_dummies_stacked_filtered = group_dummies_stacked.filter(group_dummies_stacked.category != '-')\n",
    "\n",
    "# Count occurrences of each unique element after removing 'kid'\n",
    "category_counts_filtered = group_dummies_stacked_filtered.groupBy(\"category\").count()\n",
    "\n",
    "# Collect the counts into a Pandas DataFrame\n",
    "category_counts_pd = category_counts_filtered.toPandas()\n",
    "\n",
    "# Sort the counts for better visualization (optional)\n",
    "category_counts_pd = category_counts_pd.sort_values(by=\"count\", ascending=False)\n",
    "\n",
    "# Plotting the distribution\n",
    "plt.figure(figsize=(15, 6))\n",
    "plt.bar(category_counts_pd['category'], category_counts_pd['count'], color='skyblue')\n",
    "plt.xlabel('Category')\n",
    "plt.ylabel('Count')\n",
    "plt.title('Category Distribution in group_dummies (without \"kid\")')\n",
    "plt.xticks(rotation=90) \n",
    "plt.tight_layout()\n",
    "\n",
    "# Show the plot\n",
    "plt.show()"
   ]
  },
  {
   "cell_type": "markdown",
   "metadata": {},
   "source": [
    "From the actual counting in descending order and the plot above, we can see DRAMA is the most frequent category, with a count of over 2000 occurrences. Other frequent categories include ACTION, DOCUMENTARY, SUSPENSE, and COMEDY, all having notable counts but significantly fewer than DRAMA. The frequencies gradually decrease for other categories like ROMANCE, HORROR, and ANIMATION."
   ]
  },
  {
   "cell_type": "markdown",
   "metadata": {},
   "source": [
    "## 2.3 Model Training"
   ]
  },
  {
   "cell_type": "markdown",
   "metadata": {},
   "source": [
    "In this clutering task, we use K-means Clustering algorithm. Before clustering model traing, we have to decide the number of clusters which is very important. We use Elbow Method to find the optimal numbers of cluters."
   ]
  },
  {
   "cell_type": "markdown",
   "metadata": {},
   "source": [
    "### 2.3.1 Elbow Method to find optimal cluster number(may take long time)"
   ]
  },
  {
   "cell_type": "markdown",
   "metadata": {},
   "source": [
    "- Elbow Method has three types of metrics for evaluation \n",
    "1. **silhouette** : mean ratio of intra-cluster and nearest-cluster distance \n",
    "2. **distortion** :  mean sum of squared distances to centers\n",
    "3. **calinski_harabasz** : ratio of within to between cluster dispersion"
   ]
  },
  {
   "cell_type": "code",
   "execution_count": 26,
   "metadata": {},
   "outputs": [
    {
     "data": {
      "image/png": "[encoded data removed]",
      "text/plain": [
       "<Figure size 1296x864 with 3 Axes>"
      ]
     },
     "metadata": {
      "needs_background": "light"
     },
     "output_type": "display_data"
    }
   ],
   "source": [
    "from pyspark.ml.clustering import KMeans\n",
    "from pyspark.ml.evaluation import ClusteringEvaluator\n",
    "from sklearn.metrics import calinski_harabasz_score\n",
    "\n",
    "# Initialize lists to store scores\n",
    "distortions, silhouette_scores, calinski_harabasz_scores = [], [], []\n",
    "k_values = range(3, 100)\n",
    "\n",
    "# Function to convert sparse vectors to dense for Calinski-Harabasz score\n",
    "def to_dense_vector(sparse_vector):\n",
    "    return np.array(sparse_vector.toArray())\n",
    "\n",
    "# Loop over K values\n",
    "for k in k_values:\n",
    "    # Fit KMeans model\n",
    "    kmeans = KMeans(k=k, seed=1, featuresCol=\"features\", predictionCol=\"prediction\").fit(group_dummies_final)\n",
    "    predictions = kmeans.transform(group_dummies_final)\n",
    "\n",
    "    # Store distortion\n",
    "    distortions.append(kmeans.summary.trainingCost)\n",
    "\n",
    "    # Silhouette score\n",
    "    silhouette_scores.append(ClusteringEvaluator(predictionCol='prediction', featuresCol=\"features\", metricName='silhouette').evaluate(predictions))\n",
    "\n",
    "    # Calinski-Harabasz score\n",
    "    feature_data = np.array(predictions.select(\"features\").rdd.map(lambda row: to_dense_vector(row[\"features\"])).collect())\n",
    "    labels = np.array(predictions.select(\"prediction\").rdd.map(lambda row: row[\"prediction\"]).collect())\n",
    "    calinski_harabasz_scores.append(calinski_harabasz_score(feature_data, labels))\n",
    "\n",
    "# Plot Distortion, Silhouette, and Calinski-Harabasz score\n",
    "metrics = {'Distortion': distortions, 'Silhouette Score': silhouette_scores, 'Calinski-Harabasz': calinski_harabasz_scores}\n",
    "plt.figure(figsize=(18, 12))\n",
    "\n",
    "for i, (title, values) in enumerate(metrics.items(), 1):\n",
    "    plt.subplot(3, 1, i)\n",
    "    plt.plot(k_values, values, marker='o')\n",
    "    plt.title(f'Elbow Method using {title}')\n",
    "    plt.xlabel('Number of Clusters (k)')\n",
    "    plt.ylabel(title)\n",
    "    plt.grid(True)\n",
    "\n",
    "plt.tight_layout()\n",
    "plt.show()"
   ]
  },
  {
   "cell_type": "markdown",
   "metadata": {},
   "source": [
    "For the first plot, Distortion measures the sum of squared distances between data points and their nearest cluster center. The lower the distortion, the better the fit. For the second plot,Silhouette score measures how well points are clustered together, ranging from -1 to 1. A score closer to 1 indicates well-separated and dense clusters, while a score near 0 indicates overlapping clusters. For the last plot,  Calinski-Harabasz score measures the ratio of between-cluster dispersion to within-cluster dispersion. A higher score means better-defined clusters."
   ]
  },
  {
   "cell_type": "markdown",
   "metadata": {},
   "source": [
    "By making a trade-off, we finally decide to choose the K values around 35."
   ]
  },
  {
   "cell_type": "markdown",
   "metadata": {},
   "source": [
    "### 2.3.2 K-means Clustering model training"
   ]
  },
  {
   "cell_type": "code",
   "execution_count": 27,
   "metadata": {},
   "outputs": [
    {
     "name": "stdout",
     "output_type": "stream",
     "text": [
      "+--------------------+\n",
      "|               title|\n",
      "+--------------------+\n",
      "|Take Care Good Night|\n",
      "|            Zoombies|\n",
      "|          Zoo Babies|\n",
      "|Zoë Coombs Marr: ...|\n",
      "|                 Zoe|\n",
      "|          Zoboomafoo|\n",
      "|Zo Zo Zombie: Min...|\n",
      "|        Zis Boom Bah|\n",
      "|        ZeroZeroZero|\n",
      "|            Zandalee|\n",
      "+--------------------+\n",
      "only showing top 10 rows\n",
      "\n"
     ]
    }
   ],
   "source": [
    "from pyspark.ml.clustering import KMeans\n",
    "from pyspark.sql.functions import monotonically_increasing_id\n",
    "\n",
    "# K-means clustering\n",
    "kmeans = KMeans(k=35, seed=0, featuresCol=\"features\", predictionCol=\"prediction\")\n",
    "kmeans_model = kmeans.fit(group_dummies_final)\n",
    "\n",
    "# make predictions\n",
    "predictions = kmeans_model.transform(group_dummies_final)\n",
    "\n",
    "# Add index to `amazon_movies_data` and `predictions`\n",
    "amazon_movies_data = amazon_movies_data.withColumn(\"index\", monotonically_increasing_id())\n",
    "predictions = predictions.withColumn(\"index\", monotonically_increasing_id())\n",
    "\n",
    "# Join `amazon_movies_data` and `predictions` using index\n",
    "data_amazon_cluster = amazon_movies_data.join(predictions.select(\"index\", \"prediction\"), on=\"index\", how=\"inner\")\n",
    "\n",
    "# Rename the prediction column to `clusters_genre`\n",
    "data_amazon_cluster = data_amazon_cluster.withColumnRenamed(\"prediction\", \"clusters_genre\")\n",
    "\n",
    "data_amazon_cluster.select(\"title\").show(10)"
   ]
  },
  {
   "cell_type": "markdown",
   "metadata": {},
   "source": [
    "- Now we can print some movies in the same genre. We have 35 clusters, for example we choose 17-19 groups to print.\n",
    "- The 18th group are MILITARY movies, the 19th are HISTORICAL movies, while the 20th are ADVENTURE movies"
   ]
  },
  {
   "cell_type": "code",
   "execution_count": 28,
   "metadata": {},
   "outputs": [
    {
     "name": "stdout",
     "output_type": "stream",
     "text": [
      "+---------------------------+-----------------------+\n",
      "|title                      |gender_type            |\n",
      "+---------------------------+-----------------------+\n",
      "|When the Lights Go On Again|DRAMA, MILITARY AND WAR|\n",
      "|The Underdog (1943)        |DRAMA, MILITARY AND WAR|\n",
      "|The North Star             |DRAMA, MILITARY AND WAR|\n",
      "|The Admiral Was A Lady     |DRAMA, MILITARY AND WAR|\n",
      "|Sundown                    |DRAMA, MILITARY AND WAR|\n",
      "|Nurse Edith Cavell         |DRAMA, MILITARY AND WAR|\n",
      "|A Farewell To Arms         |DRAMA, MILITARY AND WAR|\n",
      "|Journey's End              |DRAMA, MILITARY AND WAR|\n",
      "|Fugitive Pieces            |DRAMA, MILITARY AND WAR|\n",
      "|Copperhead                 |DRAMA, MILITARY AND WAR|\n",
      "+---------------------------+-----------------------+\n",
      "\n"
     ]
    }
   ],
   "source": [
    "from pyspark.sql.functions import col\n",
    "filtered_data_18 = data_amazon_cluster.filter(col('clusters_genre') == 18).select('title', 'gender_type')\n",
    "filtered_data_18.show(truncate=False)"
   ]
  },
  {
   "cell_type": "code",
   "execution_count": 29,
   "metadata": {},
   "outputs": [
    {
     "name": "stdout",
     "output_type": "stream",
     "text": [
      "+-----------------------------------+-----------------------------------+\n",
      "|title                              |gender_type                        |\n",
      "+-----------------------------------+-----------------------------------+\n",
      "|The Mill                           |DRAMA, HISTORICAL                  |\n",
      "|The Last Tycoon                    |DRAMA, HISTORICAL                  |\n",
      "|The Last Post                      |DRAMA, HISTORICAL, MILITARY AND WAR|\n",
      "|The Durrells in Corfu              |DRAMA, HISTORICAL, INTERNATIONAL   |\n",
      "|Radioactive                        |DRAMA, HISTORICAL                  |\n",
      "|Poldark                            |DRAMA, HISTORICAL                  |\n",
      "|Padmaavat                          |DRAMA, HISTORICAL, INTERNATIONAL   |\n",
      "|My Mother and Other Strangers      |DRAMA, HISTORICAL                  |\n",
      "|Little Men                         |DRAMA, HISTORICAL                  |\n",
      "|Little Dorrit                      |DRAMA, HISTORICAL                  |\n",
      "|Home Fires                         |DRAMA, HISTORICAL, MILITARY AND WAR|\n",
      "|Grantchester                       |DRAMA, HISTORICAL                  |\n",
      "|Endeavour                          |DRAMA, HISTORICAL                  |\n",
      "|Downton Abbey                      |DRAMA, HISTORICAL                  |\n",
      "|Love and Friendship                |DRAMA, HISTORICAL                  |\n",
      "|Killing Eva Braun                  |DRAMA, HISTORICAL                  |\n",
      "|The Pursuit of Love                |DRAMA, HISTORICAL, ROMANCE         |\n",
      "|Herschel And The Music Of The Stars|DRAMA, HISTORICAL                  |\n",
      "|The Collection                     |DRAMA, HISTORICAL                  |\n",
      "|The Trouble with Maggie Cole       |DRAMA, HISTORICAL                  |\n",
      "+-----------------------------------+-----------------------------------+\n",
      "\n"
     ]
    }
   ],
   "source": [
    "filtered_data_19 = data_amazon_cluster.filter(col('clusters_genre') == 19).select('title', 'gender_type')\n",
    "filtered_data_19.show(truncate=False)"
   ]
  },
  {
   "cell_type": "code",
   "execution_count": 30,
   "metadata": {},
   "outputs": [
    {
     "name": "stdout",
     "output_type": "stream",
     "text": [
      "+-------------------------------+----------------------------------+\n",
      "|title                          |gender_type                       |\n",
      "+-------------------------------+----------------------------------+\n",
      "|Yu-Gi-Oh! ARC-V                |ACTION, ADVENTURE, ANIMATION      |\n",
      "|What Comes Around              |ACTION, ADVENTURE, COMEDY         |\n",
      "|UQ Holder!                     |ACTION, ADVENTURE, ANIME          |\n",
      "|Trading Paint                  |ACTION, ADVENTURE                 |\n",
      "|Tomorrow When The War Began    |ACTION, ADVENTURE                 |\n",
      "|Ticker                         |ACTION, ADVENTURE, SUSPENSE       |\n",
      "|The New Adventures of Tarzan   |ACTION, ADVENTURE                 |\n",
      "|The King of Thieves            |ACTION, ADVENTURE, SUSPENSE       |\n",
      "|The Corrupted                  |ACTION, ADVENTURE, DRAMA          |\n",
      "|The 36th Chamber of Shaolin    |ACTION, ADVENTURE                 |\n",
      "|Tarzan The Fearless            |ACTION, ADVENTURE                 |\n",
      "|Superships                     |ACTION, ADVENTURE, DOCUMENTARY    |\n",
      "|Star Trek:  The Original Series|ACTION, ADVENTURE, SCIENCE FICTION|\n",
      "|Son of Monte Cristo            |ACTION, ADVENTURE                 |\n",
      "|Siberia (2018)                 |ACTION, ADVENTURE, SUSPENSE       |\n",
      "|Savyasachi                     |ACTION, ADVENTURE, INTERNATIONAL  |\n",
      "|RX100                          |ACTION, ADVENTURE, INTERNATIONAL  |\n",
      "|Red Nights                     |ACTION, ADVENTURE, SUSPENSE       |\n",
      "|Rain Fall                      |ACTION, ADVENTURE, SUSPENSE       |\n",
      "|Professor Shanku O El Dorado   |ACTION, ADVENTURE, SCIENCE FICTION|\n",
      "+-------------------------------+----------------------------------+\n",
      "only showing top 20 rows\n",
      "\n"
     ]
    }
   ],
   "source": [
    "filtered_data_20 = data_amazon_cluster.filter(col('clusters_genre') == 20).select('title', 'gender_type')\n",
    "filtered_data_20.show(truncate=False)\n",
    "\n",
    "spark_clustering.stop()"
   ]
  },
  {
   "cell_type": "markdown",
   "metadata": {},
   "source": [
    "We have successfully trained and clustered movies into different groups based on their genre. If people want to watch movies of certain genre, we can give them recommendations based on our clusters."
   ]
  },
  {
   "cell_type": "markdown",
   "metadata": {},
   "source": [
    "# 3. Amazon Delivery Data Regression"
   ]
  },
  {
   "cell_type": "markdown",
   "metadata": {},
   "source": [
    "## 3.1 Data Preparation"
   ]
  },
  {
   "cell_type": "markdown",
   "metadata": {},
   "source": [
    "### 3.1.0 Import necessary libraries "
   ]
  },
  {
   "cell_type": "code",
   "execution_count": 31,
   "metadata": {},
   "outputs": [],
   "source": [
    "from pyspark.sql import SparkSession\n",
    "from pyspark.ml.feature import VectorAssembler, StandardScaler\n",
    "from pyspark.ml.regression import LinearRegression\n",
    "from pyspark.ml import Pipeline\n",
    "from pyspark.sql import SparkSession\n",
    "from pyspark.sql.functions import col, sum\n",
    "from pyspark.sql import functions as F\n",
    "from pyspark.sql.types import StringType, NumericType\n",
    "import numpy as np\n",
    "import matplotlib.pyplot as plt\n",
    "import pandas as pd\n",
    "import seaborn as sns\n",
    "from pyspark.ml.feature import VectorAssembler, StandardScaler\n",
    "from pyspark.ml import Pipeline"
   ]
  },
  {
   "cell_type": "markdown",
   "metadata": {},
   "source": [
    "### 3.1.1 Load file amazon_delivery.csv from HDFS"
   ]
  },
  {
   "cell_type": "code",
   "execution_count": 32,
   "metadata": {},
   "outputs": [],
   "source": [
    "delivery_HDFS = \"hdfs://namenode:9000/amazon_delivery.csv\"\n",
    "delivery_local = \"amazon_delivery.csv\""
   ]
  },
  {
   "cell_type": "code",
   "execution_count": 33,
   "metadata": {},
   "outputs": [
    {
     "name": "stdout",
     "output_type": "stream",
     "text": [
      "+-------------+---------+------------+--------------+---------------+-------------+--------------+----------+----------+-----------+----------+-------+-----------+--------------+-------------+------------+\n",
      "|\n",
      "+-------------+---------+------------+--------------+---------------+-------------+--------------+----------+----------+-----------+----------+-------+-----------+--------------+-------------+------------+\n",
      "|\n",
      "|\n",
      "|\n",
      "|\n",
      "|\n",
      "+-------------+---------+------------+--------------+---------------+-------------+--------------+----------+----------+-----------+----------+-------+-----------+--------------+-------------+------------+\n",
      "only showing top 5 rows\n",
      "\n"
     ]
    }
   ],
   "source": [
    "# Initialize a Sparksession \n",
    "spark_regression = SparkSession.builder.appName(\"Regression\").config(\"spark.port.maxRetries\", \"50\").getOrCreate()\n",
    "\n",
    "# Read CSV file from HDFS \n",
    "amazon_delivery_data = spark_regression.read.option(\"multiLine\", \"true\").option(\"header\", \"true\").csv(delivery_local)\n",
    "amazon_delivery_data.show(5)"
   ]
  },
  {
   "cell_type": "markdown",
   "metadata": {},
   "source": [
    "### 3.1.2  Cleansing data and avoid noise"
   ]
  },
  {
   "cell_type": "markdown",
   "metadata": {},
   "source": [
    "- Check null values and remove them"
   ]
  },
  {
   "cell_type": "code",
   "execution_count": 34,
   "metadata": {},
   "outputs": [
    {
     "name": "stdout",
     "output_type": "stream",
     "text": [
      "+--------+---------+------------+--------------+---------------+-------------+--------------+----------+----------+-----------+-------+-------+-------+----+-------------+---------+\n",
      "|\n",
      "+--------+---------+------------+--------------+---------------+-------------+--------------+----------+----------+-----------+-------+-------+-------+----+-------------+---------+\n",
      "|       0|        0|          54|             0|              0|            0|             0|         0|         0|          0|      0|      0|      0|   0|            0|        0|\n",
      "+--------+---------+------------+--------------+---------------+-------------+--------------+----------+----------+-----------+-------+-------+-------+----+-------------+---------+\n",
      "\n"
     ]
    }
   ],
   "source": [
    "null_count_columns = []\n",
    "\n",
    "for column in amazon_delivery_data.columns:\n",
    "    # Calculate the number of null values for each column and use alias to name the result as the original column name\n",
    "    null_count = sum(col(column).isNull().cast(\"int\")).alias(column)\n",
    "    null_count_columns.append(null_count)\n",
    "\n",
    "amazon_delivery_data.select(null_count_columns).show()"
   ]
  },
  {
   "cell_type": "code",
   "execution_count": 35,
   "metadata": {},
   "outputs": [
    {
     "name": "stdout",
     "output_type": "stream",
     "text": [
      "+--------+---------+------------+--------------+---------------+-------------+--------------+----------+----------+-----------+-------+-------+-------+----+-------------+---------+\n",
      "|\n",
      "+--------+---------+------------+--------------+---------------+-------------+--------------+----------+----------+-----------+-------+-------+-------+----+-------------+---------+\n",
      "|       0|        0|           0|             0|              0|            0|             0|         0|         0|          0|      0|      0|      0|   0|            0|        0|\n",
      "+--------+---------+------------+--------------+---------------+-------------+--------------+----------+----------+-----------+-------+-------+-------+----+-------------+---------+\n",
      "\n"
     ]
    }
   ],
   "source": [
    "amazon_delivery_data = amazon_delivery_data.dropna(subset = ['Agent_Rating'])\n",
    "null_count_columns = []\n",
    "\n",
    "for column in amazon_delivery_data.columns:\n",
    "    null_count = sum(col(column).isNull().cast(\"int\")).alias(column)\n",
    "    null_count_columns.append(null_count)\n",
    "\n",
    "amazon_delivery_data.select(null_count_columns).show()"
   ]
  },
  {
   "cell_type": "code",
   "execution_count": 36,
   "metadata": {},
   "outputs": [],
   "source": [
    "amazon_delivery_data = amazon_delivery_data.drop('Order_ID', 'Order_Date','Order_Time','Pickup_Time','Weather','Traffic','Vehicle','Area','Category')"
   ]
  },
  {
   "cell_type": "markdown",
   "metadata": {},
   "source": [
    "## 3.2 Exploratory Data Analysis"
   ]
  },
  {
   "cell_type": "markdown",
   "metadata": {},
   "source": [
    "### 3.2.1 Feature selection and casting"
   ]
  },
  {
   "cell_type": "code",
   "execution_count": 37,
   "metadata": {},
   "outputs": [],
   "source": [
    "# Select numeric features\n",
    "numeric_features = ['Agent_Age', 'Agent_Rating', 'Store_Latitude', 'Store_Longitude', 'Drop_latitude','Drop_Longitude', 'Delivery_Time']"
   ]
  },
  {
   "cell_type": "markdown",
   "metadata": {},
   "source": [
    "- Ensure the data type to be numerical"
   ]
  },
  {
   "cell_type": "code",
   "execution_count": 38,
   "metadata": {},
   "outputs": [],
   "source": [
    "from pyspark.sql.types import DoubleType\n",
    "\n",
    "amazon_delivery_data = amazon_delivery_data.withColumn('Agent_Age', amazon_delivery_data['Agent_Age'].cast(DoubleType())) \\\n",
    "                       .withColumn('Agent_Rating', amazon_delivery_data['Agent_Rating'].cast(DoubleType())) \\\n",
    "                       .withColumn('Store_Latitude', amazon_delivery_data['Store_Latitude'].cast(DoubleType())) \\\n",
    "                       .withColumn('Store_Longitude', amazon_delivery_data['Store_Longitude'].cast(DoubleType())) \\\n",
    "                       .withColumn('Drop_latitude', amazon_delivery_data['Drop_latitude'].cast(DoubleType())) \\\n",
    "                       .withColumn('Drop_Longitude', amazon_delivery_data['Drop_Longitude'].cast(DoubleType())) \\\n",
    "                       .withColumn('Delivery_Time', amazon_delivery_data['Delivery_Time'].cast(DoubleType()))\n"
   ]
  },
  {
   "cell_type": "markdown",
   "metadata": {},
   "source": [
    "### 3.2.2 Visualization of correlation"
   ]
  },
  {
   "cell_type": "code",
   "execution_count": 39,
   "metadata": {},
   "outputs": [
    {
     "data": {
      "image/png": "[encoded data removed]",
      "text/plain": [
       "<Figure size 864x648 with 2 Axes>"
      ]
     },
     "metadata": {
      "needs_background": "light"
     },
     "output_type": "display_data"
    }
   ],
   "source": [
    "# Computing correlation matrix for selected features\n",
    "features = numeric_features\n",
    "correlation_matrix = {}\n",
    "\n",
    "# Calculate the correlation between each pair of features\n",
    "for feature1 in features:\n",
    "    correlation_matrix[feature1] = {}\n",
    "    for feature2 in features:\n",
    "        correlation_value = amazon_delivery_data.stat.corr(feature1, feature2)\n",
    "        correlation_matrix[feature1][feature2] = correlation_value\n",
    "\n",
    "corr_df = pd.DataFrame(correlation_matrix)\n",
    "\n",
    "# Plot the correlation matrix \n",
    "plt.figure(figsize=(12,9))\n",
    "sns.heatmap(corr_df, annot=True, fmt=\".2f\")\n",
    "plt.title('Heatmap of Correlation Matrix')\n",
    "plt.show()"
   ]
  },
  {
   "cell_type": "markdown",
   "metadata": {},
   "source": [
    "The above correlation heatmap shows both the magnitude and direction of the correlation between all the selected features of sales dataset.To interpret this heatmap, the correlation coeffient ranges from -1 to 1, if the coeffcient is positive, then the pair of attributes are positively related, if the coefficient is negtive, then the pair of attributes are negatively related."
   ]
  },
  {
   "cell_type": "markdown",
   "metadata": {},
   "source": [
    "We can see, the Store Longitude and Drop Longitude have very strong positive relationships(0.98). The Store Latitude and Drop Latitude are also related very positvely with a 0.93 correlation. The Store Longitude and Drop Latitude has a 0.68 positive correlation which is very strong too. Overall, these four features including Store Latitude, Store Longitude, Drop Latitude, Drop Longitude are closely related, intercted and influenced with each other. So, we are going to do further search on them."
   ]
  },
  {
   "cell_type": "markdown",
   "metadata": {},
   "source": [
    "### 3.2.3 Pair plot for selected features"
   ]
  },
  {
   "cell_type": "code",
   "execution_count": 40,
   "metadata": {},
   "outputs": [
    {
     "data": {
      "image/png": "[encoded data removed]",
      "text/plain": [
       "<Figure size 720x720 with 20 Axes>"
      ]
     },
     "metadata": {
      "needs_background": "light"
     },
     "output_type": "display_data"
    }
   ],
   "source": [
    "import seaborn as sns\n",
    "import matplotlib.pyplot as plt\n",
    "\n",
    "# Convert the PySpark DataFrame to a Pandas DataFrame\n",
    "# Select the required columns and convert to Pandas\n",
    "pandas_df = amazon_delivery_data.select('Store_Latitude', 'Store_Longitude', 'Drop_Latitude', 'Drop_Longitude').toPandas()\n",
    "\n",
    "# Set the color for the plots\n",
    "color = '#232f3e'\n",
    "\n",
    "# Create the pair plot for the selected columns\n",
    "pair_plot = sns.pairplot(pandas_df, diag_kind='kde')\n",
    "\n",
    "# Customize the plot appearance\n",
    "for ax in pair_plot.axes.flatten():\n",
    "    if ax:\n",
    "        for artist in ax.lines + ax.collections:\n",
    "            artist.set_color(color)\n",
    "        for artist in ax.patches:\n",
    "            artist.set_edgecolor(color)\n",
    "            artist.set_facecolor(color)\n",
    "    if hasattr(ax, 'collections'):\n",
    "        for artist in ax.collections:\n",
    "            artist.set_edgecolor(color)\n",
    "\n",
    "# Add a title and display the plot\n",
    "plt.suptitle('Pair Plot of Selected Columns', y=1.02)\n",
    "plt.show()\n"
   ]
  },
  {
   "cell_type": "markdown",
   "metadata": {},
   "source": [
    "## 3.3 Model Training"
   ]
  },
  {
   "cell_type": "markdown",
   "metadata": {},
   "source": [
    "### 3.3.1 Training regression model using Linear Regression"
   ]
  },
  {
   "cell_type": "code",
   "execution_count": 41,
   "metadata": {},
   "outputs": [
    {
     "name": "stdout",
     "output_type": "stream",
     "text": [
      "root\n",
      " |-- Agent_Age: double (nullable = true)\n",
      " |-- Agent_Rating: double (nullable = true)\n",
      " |-- Store_Latitude: double (nullable = true)\n",
      " |-- Store_Longitude: double (nullable = true)\n",
      " |-- Drop_latitude: double (nullable = true)\n",
      " |-- Drop_Longitude: double (nullable = true)\n",
      " |-- Delivery_Time: double (nullable = true)\n",
      ": string (nullable = true)\n",
      "\n",
      "+--------------------+-------------+--------------------+\n",
      "|     vector_features|Drop_Latitude|          prediction|\n",
      "+--------------------+-------------+--------------------+\n",
      "|[15.0,1.0,-23.351...|    23.421058| -23.351058000022338|\n",
      "|[15.0,1.0,-17.426...|    17.486228|  -17.42622799999896|\n",
      "|[15.0,1.0,-13.091...|    13.111809|   -13.0918089997663|\n",
      "|[15.0,1.0,-13.049...|    13.129645| -13.049645000008077|\n",
      "|[15.0,1.0,0.0,0.0...|         0.07|2.422082165592742...|\n",
      "|[15.0,1.0,0.0,0.0...|         0.07|2.341040984685451...|\n",
      "|[15.0,1.0,11.0036...|    11.133681|  11.003681000223967|\n",
      "|[15.0,1.0,11.0250...|    11.085083|  11.025083000222159|\n",
      "|[15.0,1.0,12.3239...|    12.413978|  12.323978000225065|\n",
      "|[15.0,1.0,12.3239...|    12.433978|  12.323978000221306|\n",
      "|[15.0,1.0,12.3340...|    12.354022|  12.334022000231995|\n",
      "|[15.0,1.0,13.0262...|    13.056286|  13.026286000223804|\n",
      "|[15.0,1.0,13.0262...|    13.116286|  13.026286000222502|\n",
      "|[15.0,1.0,13.0291...|    13.159198|  13.029198000222493|\n",
      "|[15.0,1.0,21.1707...|    21.220798|   21.17079800022341|\n",
      "|[15.0,1.0,22.7600...|    22.840072|   22.76007200022617|\n",
      "|[15.0,1.0,26.9029...|     26.91294|  26.902940000232356|\n",
      "|[20.0,2.6,21.1707...|    21.250798|  21.170798000140717|\n",
      "|[20.0,3.1,25.4546...|    25.594648|  25.454648000092707|\n",
      "|[20.0,3.5,19.0658...|    19.175838|  19.065838000066634|\n",
      "|[20.0,3.6,12.3110...|    12.321072|  12.311072000053143|\n",
      "|[20.0,3.7,22.7281...|    22.778163|  22.728163000074023|\n",
      "|[20.0,3.7,23.3594...|    23.379407|  23.359407000049373|\n",
      "|[20.0,3.8,13.0297...|     13.03978|   13.02978000006481|\n",
      "|[20.0,3.9,30.8901...|    30.950184|  30.890184000036925|\n",
      "|[20.0,4.0,12.9702...|    12.990221|    12.9702210000427|\n",
      "|[20.0,4.0,19.2072...|    19.317222|  19.207222000040428|\n",
      "|[20.0,4.0,19.8750...|    19.985016|  19.875016000040034|\n",
      "|[20.0,4.0,22.7512...|    22.821234|   22.75123400003634|\n",
      "|[20.0,4.0,26.4791...|    26.609108|   26.47910800005753|\n",
      "+--------------------+-------------+--------------------+\n",
      "only showing top 30 rows\n",
      "\n"
     ]
    }
   ],
   "source": [
    "from pyspark.ml.regression import LinearRegression\n",
    "\n",
    "# Drop 'vector_features' if it already exists to avoid conflict\n",
    "amazon_delivery_data = amazon_delivery_data.drop('vector_features')\n",
    "amazon_delivery_data.printSchema()\n",
    "# Apply VectorAssembler for feature processing with a new output column name\n",
    "assembler = VectorAssembler(inputCols=numeric_features, outputCol='vector_features')\n",
    "amazon_delivery_data = assembler.transform(amazon_delivery_data)\n",
    "\n",
    "# Apply StandardScaler for data standardization\n",
    "scaler = StandardScaler(inputCol='vector_features', outputCol='standardized_features', withStd=True, withMean=False)\n",
    "scaler_model = scaler.fit(amazon_delivery_data)\n",
    "scaled_data = scaler_model.transform(amazon_delivery_data)\n",
    "\n",
    "# Split the data into training and test sets\n",
    "train_data, test_data = scaled_data.randomSplit([0.8, 0.2])\n",
    "\n",
    "# Train the Linear Regression model with the correct label column name\n",
    "lr = LinearRegression(featuresCol='standardized_features', labelCol='Store_Latitude', maxIter=200)\n",
    "lr_model = lr.fit(train_data)\n",
    "\n",
    "# Show some predictions on the test data\n",
    "predictions = lr_model.transform(test_data)\n",
    "predictions.select('vector_features', 'Drop_Latitude', 'prediction').show(30)"
   ]
  },
  {
   "cell_type": "markdown",
   "metadata": {},
   "source": [
    "# 3.4 Model Evaluation"
   ]
  },
  {
   "cell_type": "markdown",
   "metadata": {},
   "source": [
    "### 3.4.1 Residuals and RMSE"
   ]
  },
  {
   "cell_type": "code",
   "execution_count": 42,
   "metadata": {},
   "outputs": [
    {
     "name": "stdout",
     "output_type": "stream",
     "text": [
      "+--------------------+\n",
      "|           residuals|\n",
      "+--------------------+\n",
      "|-2.65256261400281...|\n",
      "|-2.67661448560829...|\n",
      "|-2.50313547667246...|\n",
      "|-1.80158110651973...|\n",
      "|1.788791337276052...|\n",
      "|-4.17443857259058...|\n",
      "|-2.38467854363553...|\n",
      "|-2.27823093723600...|\n",
      "|-2.27492691351471...|\n",
      "|-2.18740581203746...|\n",
      "|-2.25659491093210...|\n",
      "|-2.28776997346358...|\n",
      "|-2.26279439630161...|\n",
      "|-2.22575735620011...|\n",
      "|-2.23115748099189...|\n",
      "|-2.18687290498564...|\n",
      "|-2.29267271834032...|\n",
      "|-2.18506102100946...|\n",
      "|-2.30880203844208...|\n",
      "|-2.24940066573253...|\n",
      "+--------------------+\n",
      "only showing top 20 rows\n",
      "\n"
     ]
    }
   ],
   "source": [
    "training_summary = lr_model.summary\n",
    "training_summary.residuals.show()"
   ]
  },
  {
   "cell_type": "code",
   "execution_count": 43,
   "metadata": {},
   "outputs": [
    {
     "name": "stdout",
     "output_type": "stream",
     "text": [
      "RMSE: 0.0000000000209787\n"
     ]
    }
   ],
   "source": [
    "print(\"RMSE: {:.16f}\".format(training_summary.rootMeanSquaredError))"
   ]
  },
  {
   "cell_type": "code",
   "execution_count": 44,
   "metadata": {},
   "outputs": [],
   "source": [
    "spark_regression.stop()"
   ]
  },
  {
   "cell_type": "markdown",
   "metadata": {},
   "source": [
    "### 3.4.2 Limits of the model"
   ]
  },
  {
   "cell_type": "markdown",
   "metadata": {},
   "source": [
    "This linear regression model might be underfitting in some regions, we can still see some areas where blue dots are far from the plane.  To get further improvement, we can add more features to train the data. We can also try other models like polynomial regression."
   ]
  },
  {
   "cell_type": "markdown",
   "metadata": {},
   "source": [
    "# 4. Recommendation using Collaborative Filtering"
   ]
  },
  {
   "cell_type": "markdown",
   "metadata": {},
   "source": [
    "## 4.1 Data preparation"
   ]
  },
  {
   "cell_type": "markdown",
   "metadata": {},
   "source": [
    "### 4.1.0 Import necessary libraries"
   ]
  },
  {
   "cell_type": "code",
   "execution_count": 45,
   "metadata": {},
   "outputs": [],
   "source": [
    "from pyspark.sql import SparkSession\n",
    "from pyspark.ml.feature import VectorAssembler, StandardScaler\n",
    "from pyspark.ml.regression import LinearRegression\n",
    "from pyspark.ml import Pipeline\n",
    "from pyspark.sql import SparkSession\n",
    "from pyspark.sql.functions import col, sum\n",
    "from pyspark.sql import functions as F\n",
    "from pyspark.sql.types import StringType, NumericType\n",
    "import numpy as np\n",
    "import matplotlib.pyplot as plt\n",
    "import pandas as pd\n",
    "import seaborn as sns\n",
    "from pyspark.ml.feature import VectorAssembler, StandardScaler\n",
    "from pyspark.ml.feature import StringIndexer\n",
    "from pyspark.ml import Pipeline"
   ]
  },
  {
   "cell_type": "markdown",
   "metadata": {},
   "source": [
    "### 4.1.1 Load file amazon_electronics.csv from HDFS"
   ]
  },
  {
   "cell_type": "code",
   "execution_count": 46,
   "metadata": {},
   "outputs": [],
   "source": [
    "electronics_HDFS = \"hdfs://namenode:9000/amazon_electronics.csv\"\n",
    "electronics_local = \"amazon_electronics.csv\""
   ]
  },
  {
   "cell_type": "code",
   "execution_count": 47,
   "metadata": {},
   "outputs": [],
   "source": [
    "# Initialize a Sparksession \n",
    "spark_CF = SparkSession.builder.appName(\"Collaborative Filtering\").config(\"spark.port.maxRetries\", \"50\").getOrCreate()\n",
    "\n",
    "# Read CSV file from HDFS \n",
    "amazon_electronics_data = spark_CF.read.option(\"multiLine\", \"true\").option(\"header\", \"true\").csv(electronics_local)"
   ]
  },
  {
   "cell_type": "code",
   "execution_count": 48,
   "metadata": {},
   "outputs": [
    {
     "name": "stdout",
     "output_type": "stream",
     "text": [
      "root\n",
      " |-- AKM1MP6P0OYPR: string (nullable = true)\n",
      " |-- 0132793040: string (nullable = true)\n",
      " |-- 5.0: string (nullable = true)\n",
      " |-- 1365811200: string (nullable = true)\n",
      "\n"
     ]
    }
   ],
   "source": [
    "amazon_electronics_data.printSchema()"
   ]
  },
  {
   "cell_type": "markdown",
   "metadata": {},
   "source": [
    "- There is no titles for each column, so we rename each column. "
   ]
  },
  {
   "cell_type": "code",
   "execution_count": 49,
   "metadata": {},
   "outputs": [],
   "source": [
    "# Assuming the original columns are \"userId\", \"productId\", \"Rating\", \"timestamp\"\n",
    "amazon_electronics_data = amazon_electronics_data \\\n",
    "    .withColumnRenamed(\"AKM1MP6P0OYPR\", \"user_id\") \\\n",
    "    .withColumnRenamed(\"0132793040\", \"product_id\") \\\n",
    "    .withColumnRenamed(\"5.0\", \"rating\") \\\n",
    "    .withColumnRenamed(\"1365811200\", \"timestamp\")"
   ]
  },
  {
   "cell_type": "code",
   "execution_count": 50,
   "metadata": {},
   "outputs": [
    {
     "name": "stdout",
     "output_type": "stream",
     "text": [
      "root\n",
      " |-- user_id: string (nullable = true)\n",
      " |-- product_id: string (nullable = true)\n",
      " |-- rating: string (nullable = true)\n",
      " |-- timestamp: string (nullable = true)\n",
      "\n"
     ]
    }
   ],
   "source": [
    "amazon_electronics_data.printSchema()"
   ]
  },
  {
   "cell_type": "markdown",
   "metadata": {},
   "source": [
    "- Convert the all the string type to numeric"
   ]
  },
  {
   "cell_type": "code",
   "execution_count": 51,
   "metadata": {},
   "outputs": [],
   "source": [
    "user_indexer = StringIndexer(inputCol = 'user_id', outputCol = 'user_id_index')\n",
    "product_indexer = StringIndexer(inputCol = 'product_id', outputCol = 'product_id_index')\n",
    "user_indexer.setHandleInvalid(\"error\")\n",
    "product_indexer.setHandleInvalid(\"error\")\n",
    "amazon_electronics_data = user_indexer.fit(amazon_electronics_data).transform(amazon_electronics_data)\n",
    "amazon_electronics_data = product_indexer.fit(amazon_electronics_data).transform(amazon_electronics_data)"
   ]
  },
  {
   "cell_type": "code",
   "execution_count": 52,
   "metadata": {},
   "outputs": [],
   "source": [
    "amazon_electronics_data = amazon_electronics_data.drop('user_id','product_id','timestamp')"
   ]
  },
  {
   "cell_type": "code",
   "execution_count": 53,
   "metadata": {},
   "outputs": [
    {
     "name": "stdout",
     "output_type": "stream",
     "text": [
      "+------+-------------+----------------+\n",
      "|rating|user_id_index|product_id_index|\n",
      "+------+-------------+----------------+\n",
      "|     4|        62976|            7850|\n",
      "|     5|       171439|           15350|\n",
      "|     4|        32356|           35352|\n",
      "|     5|        57857|           16483|\n",
      "|     5|        10743|           52676|\n",
      "|     4|       142639|           10803|\n",
      "|     5|       171232|             838|\n",
      "|     5|        55309|           38548|\n",
      "|     5|         7926|           38021|\n",
      "|     5|        71539|             444|\n",
      "|     5|        59156|             232|\n",
      "|     5|         4510|           12723|\n",
      "|     5|        96457|             669|\n",
      "|     2|       153013|             769|\n",
      "|     5|        11065|              45|\n",
      "|     5|        37502|           61120|\n",
      "|     5|        22689|           65208|\n",
      "|     5|        45783|            2060|\n",
      "|     4|       158495|            1354|\n",
      "|     3|        12850|           32538|\n",
      "+------+-------------+----------------+\n",
      "only showing top 20 rows\n",
      "\n"
     ]
    }
   ],
   "source": [
    "from pyspark.sql.functions import col\n",
    "\n",
    "# Cast 'user_id_index' and 'product_id_index' to int\n",
    "amazon_electronics_data = amazon_electronics_data \\\n",
    "    .withColumn(\"rating\", col(\"rating\").cast(\"int\")) \\\n",
    "    .withColumn(\"user_id_index\", col(\"user_id_index\").cast(\"int\")) \\\n",
    "    .withColumn(\"product_id_index\", col(\"product_id_index\").cast(\"int\")) \\\n",
    "\n",
    "# Show the cleaned data\n",
    "amazon_electronics_data.show()\n"
   ]
  },
  {
   "cell_type": "code",
   "execution_count": 54,
   "metadata": {},
   "outputs": [
    {
     "name": "stdout",
     "output_type": "stream",
     "text": [
      "root\n",
      " |-- rating: integer (nullable = true)\n",
      " |-- user_id_index: integer (nullable = true)\n",
      " |-- product_id_index: integer (nullable = true)\n",
      "\n"
     ]
    }
   ],
   "source": [
    "amazon_electronics_data.printSchema()"
   ]
  },
  {
   "cell_type": "markdown",
   "metadata": {},
   "source": [
    "### 4.1.2 Check missing values"
   ]
  },
  {
   "cell_type": "code",
   "execution_count": 55,
   "metadata": {},
   "outputs": [
    {
     "name": "stdout",
     "output_type": "stream",
     "text": [
      "+------+-------------+----------------+\n",
      "|rating|user_id_index|product_id_index|\n",
      "+------+-------------+----------------+\n",
      "|     0|            0|               0|\n",
      "+------+-------------+----------------+\n",
      "\n"
     ]
    }
   ],
   "source": [
    "null_count_columns = []\n",
    "\n",
    "for column in amazon_electronics_data.columns:\n",
    "    # Count the number of null\n",
    "    null_count = sum(col(column).isNull().cast(\"int\")).alias(column)\n",
    "    null_count_columns.append(null_count)\n",
    "\n",
    "# Print results\n",
    "amazon_electronics_data.select(null_count_columns).show()"
   ]
  },
  {
   "cell_type": "markdown",
   "metadata": {},
   "source": [
    "## 4.2 Exploratory Data Analysis"
   ]
  },
  {
   "cell_type": "markdown",
   "metadata": {},
   "source": [
    "- General information about dataset"
   ]
  },
  {
   "cell_type": "code",
   "execution_count": 56,
   "metadata": {},
   "outputs": [
    {
     "name": "stdout",
     "output_type": "stream",
     "text": [
      "+-------+------------------+-----------------+------------------+\n",
      "|summary|            rating|    user_id_index|  product_id_index|\n",
      "+-------+------------------+-----------------+------------------+\n",
      "|  count|            187787|           187787|            187787|\n",
      "|   mean| 4.018318626955008| 85163.0657500253| 17159.36625538509|\n",
      "| stddev|1.3788946253427925|53616.06293028753|20583.034363454935|\n",
      "|    min|                 1|                0|                 0|\n",
      "|    max|                 5|           178683|             72526|\n",
      "+-------+------------------+-----------------+------------------+\n",
      "\n"
     ]
    }
   ],
   "source": [
    "amazon_electronics_data.describe().show()"
   ]
  },
  {
   "cell_type": "markdown",
   "metadata": {},
   "source": [
    "### 4.2.1 Distribution of 'rating'"
   ]
  },
  {
   "cell_type": "code",
   "execution_count": 57,
   "metadata": {},
   "outputs": [
    {
     "data": {
      "image/png": "[encoded data removed]",
      "text/plain": [
       "<Figure size 576x432 with 1 Axes>"
      ]
     },
     "metadata": {
      "needs_background": "light"
     },
     "output_type": "display_data"
    }
   ],
   "source": [
    "# Convert the Rating column to Pandas DataFrame\n",
    "rating_pd = amazon_electronics_data.select(\"Rating\").toPandas()\n",
    "\n",
    "# Plot the distribution\n",
    "plt.figure(figsize=(8, 6))\n",
    "sns.histplot(rating_pd['Rating'], bins=20, kde=True, color='blue')\n",
    "\n",
    "# Add title and labels\n",
    "plt.title('Rating Distribution')\n",
    "plt.xlabel('Rating')\n",
    "plt.ylabel('Frequency')\n",
    "\n",
    "# Show the plot\n",
    "plt.show()"
   ]
  },
  {
   "cell_type": "code",
   "execution_count": 58,
   "metadata": {},
   "outputs": [
    {
     "name": "stdout",
     "output_type": "stream",
     "text": [
      "Unique Ratings: 5\n",
      "Unique User IDs: 178684\n",
      "Unique Product IDs: 72527\n"
     ]
    }
   ],
   "source": [
    "# Get unique counts for each column\n",
    "unique_ratings = amazon_electronics_data.select(\"rating\").distinct().count()\n",
    "unique_user_ids = amazon_electronics_data.select(\"user_id_index\").distinct().count()\n",
    "unique_product_ids = amazon_electronics_data.select(\"product_id_index\").distinct().count()\n",
    "\n",
    "# Display the counts\n",
    "print(f\"Unique Ratings: {unique_ratings}\")\n",
    "print(f\"Unique User IDs: {unique_user_ids}\")\n",
    "print(f\"Unique Product IDs: {unique_product_ids}\")\n"
   ]
  },
  {
   "cell_type": "markdown",
   "metadata": {},
   "source": [
    "# 4.3 Model Training"
   ]
  },
  {
   "cell_type": "markdown",
   "metadata": {},
   "source": [
    "### 4.3.1 Using Alternating Least Squares (ALS) algorithm for collaborative filtering"
   ]
  },
  {
   "cell_type": "code",
   "execution_count": 59,
   "metadata": {},
   "outputs": [
    {
     "name": "stdout",
     "output_type": "stream",
     "text": [
      "150344\n",
      "RMSE = 4.472612998642152\n"
     ]
    }
   ],
   "source": [
    "from pyspark.ml.recommendation import ALS\n",
    "from pyspark.ml.evaluation import RegressionEvaluator\n",
    "\n",
    "(training, test) = amazon_electronics_data.randomSplit([0.8, 0.2])\n",
    "\n",
    "# Build the recommendation model using ALS on the training data\n",
    "als = ALS(maxIter=20, regParam=0.01,rank=30, userCol=\"user_id_index\", itemCol=\"product_id_index\", ratingCol=\"rating\", coldStartStrategy=\"drop\")\n",
    "model = als.fit(training)\n",
    "print(training.count())\n",
    "# Evaluate the model by computing the RMSE on the test data\n",
    "predictions = model.transform(test)\n",
    "evaluator = RegressionEvaluator(metricName=\"rmse\", labelCol=\"rating\",predictionCol=\"prediction\")\n",
    "rmse = evaluator.evaluate(predictions)\n",
    "print(\"RMSE = \" + str(rmse))"
   ]
  },
  {
   "cell_type": "markdown",
   "metadata": {},
   "source": [
    "### 4.3.2 Limits of the model and thinking about unsatisfactory outcomes"
   ]
  },
  {
   "cell_type": "markdown",
   "metadata": {},
   "source": [
    "We can see the RMSE is above 4, that means the training model is not fit well with the given dataset. Here is my thinking: The most important reason is that the dataset is not large enough. What do I mean? Although the dataset seems very large, with 187787 rows, the dataset is still too small. Actually, I have truncated the dataset and the previous whole set has even more than 4 million records! So, what actually caused the loss of information? "
   ]
  },
  {
   "cell_type": "markdown",
   "metadata": {},
   "source": [
    "The first reason is the sparsity of the user-item interaction matrix. ALS requires a user-item interaction matrix, so the 180,000 records we extracted may be too sparse, meaning there are too few interactions between users and items, making it difficult for the model to learn useful patterns."
   ]
  },
  {
   "cell_type": "markdown",
   "metadata": {},
   "source": [
    "The second reason is the lack of representative data. The data we extracted may not well represent the distribution of the original dataset. If certain users or items appear less frequently in the subset, but they are common in the full dataset, the model might struggle to generalize properly."
   ]
  },
  {
   "cell_type": "markdown",
   "metadata": {},
   "source": [
    "The third reason is the Hyperparameter settings.ALS relies on many hyperparameters including 'maxIter', 'regParam', 'implicitPrefs', 'rank'. If these are not set properly, it can lead to poor model performance."
   ]
  },
  {
   "cell_type": "markdown",
   "metadata": {},
   "source": [
    "<div style=\"border: 10px double #FFC0CB; padding: 15px; border-radius: 20px;\">\n",
    "    <h3 style=\"text-align: center; color: #FFC0CB;\">END OF THE PROJECT   THANK YOU FOR READING</h3>\n",
    "</div>\n"
   ]
  }
 ],
 "metadata": {
  "kernelspec": {
   "display_name": "Python 3",
   "language": "python",
   "name": "python3"
  },
  "language_info": {
   "codemirror_mode": {
    "name": "ipython",
    "version": 3
   },
   "file_extension": ".py",
   "mimetype": "text/x-python",
   "name": "python",
   "nbconvert_exporter": "python",
   "pygments_lexer": "ipython3",
   "version": "3.8.6"
  }
 },
 "nbformat": 4,
 "nbformat_minor": 4
}
